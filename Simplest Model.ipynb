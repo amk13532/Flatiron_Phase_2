{
 "cells": [
  {
   "cell_type": "code",
   "execution_count": 1,
   "metadata": {},
   "outputs": [],
   "source": [
    "#Import Initial Libraries and Data Set\n",
    "from sklearn.linear_model import LinearRegression\n",
    "from sklearn.model_selection import cross_val_score\n",
    "from sklearn.model_selection import KFold\n",
    "import pandas as pd\n",
    "import numpy as np\n",
    "import matplotlib.pyplot as plt\n",
    "\n",
    "data = pd.read_csv('data/kc_house_data.csv')"
   ]
  },
  {
   "cell_type": "code",
   "execution_count": 2,
   "metadata": {},
   "outputs": [
    {
     "name": "stdout",
     "output_type": "stream",
     "text": [
      "<class 'pandas.core.frame.DataFrame'>\n",
      "RangeIndex: 21597 entries, 0 to 21596\n",
      "Data columns (total 21 columns):\n",
      " #   Column         Non-Null Count  Dtype  \n",
      "---  ------         --------------  -----  \n",
      " 0   id             21597 non-null  int64  \n",
      " 1   date           21597 non-null  object \n",
      " 2   price          21597 non-null  float64\n",
      " 3   bedrooms       21597 non-null  int64  \n",
      " 4   bathrooms      21597 non-null  float64\n",
      " 5   sqft_living    21597 non-null  int64  \n",
      " 6   sqft_lot       21597 non-null  int64  \n",
      " 7   floors         21597 non-null  float64\n",
      " 8   waterfront     19221 non-null  float64\n",
      " 9   view           21534 non-null  float64\n",
      " 10  condition      21597 non-null  int64  \n",
      " 11  grade          21597 non-null  int64  \n",
      " 12  sqft_above     21597 non-null  int64  \n",
      " 13  sqft_basement  21597 non-null  object \n",
      " 14  yr_built       21597 non-null  int64  \n",
      " 15  yr_renovated   17755 non-null  float64\n",
      " 16  zipcode        21597 non-null  int64  \n",
      " 17  lat            21597 non-null  float64\n",
      " 18  long           21597 non-null  float64\n",
      " 19  sqft_living15  21597 non-null  int64  \n",
      " 20  sqft_lot15     21597 non-null  int64  \n",
      "dtypes: float64(8), int64(11), object(2)\n",
      "memory usage: 3.5+ MB\n"
     ]
    }
   ],
   "source": [
    "data.info()"
   ]
  },
  {
   "cell_type": "code",
   "execution_count": 3,
   "metadata": {},
   "outputs": [],
   "source": [
    "#Convert NA values in 'waterfront' to 0\n",
    "\n",
    "data['view'] = data['view'].replace(np.nan, 0)\n",
    "\n",
    "#Convert NA values in 'waterfront' to 0\n",
    "\n",
    "data['waterfront'] = data['waterfront'].replace(np.nan, 0)\n",
    "\n",
    "#Convert NA values in 'yr_renovated' to 0\n",
    "\n",
    "data['yr_renovated'] = data['yr_renovated'].replace(np.nan, 0)"
   ]
  },
  {
   "cell_type": "code",
   "execution_count": 4,
   "metadata": {},
   "outputs": [
    {
     "data": {
      "text/plain": [
       "id               0\n",
       "date             0\n",
       "price            0\n",
       "bedrooms         0\n",
       "bathrooms        0\n",
       "sqft_living      0\n",
       "sqft_lot         0\n",
       "floors           0\n",
       "waterfront       0\n",
       "view             0\n",
       "condition        0\n",
       "grade            0\n",
       "sqft_above       0\n",
       "sqft_basement    0\n",
       "yr_built         0\n",
       "yr_renovated     0\n",
       "zipcode          0\n",
       "lat              0\n",
       "long             0\n",
       "sqft_living15    0\n",
       "sqft_lot15       0\n",
       "dtype: int64"
      ]
     },
     "execution_count": 4,
     "metadata": {},
     "output_type": "execute_result"
    }
   ],
   "source": [
    "data.isna().sum()"
   ]
  },
  {
   "cell_type": "code",
   "execution_count": 5,
   "metadata": {},
   "outputs": [
    {
     "name": "stdout",
     "output_type": "stream",
     "text": [
      "<class 'pandas.core.frame.DataFrame'>\n",
      "RangeIndex: 21597 entries, 0 to 21596\n",
      "Data columns (total 21 columns):\n",
      " #   Column         Non-Null Count  Dtype  \n",
      "---  ------         --------------  -----  \n",
      " 0   id             21597 non-null  int64  \n",
      " 1   date           21597 non-null  object \n",
      " 2   price          21597 non-null  float64\n",
      " 3   bedrooms       21597 non-null  int64  \n",
      " 4   bathrooms      21597 non-null  float64\n",
      " 5   sqft_living    21597 non-null  int64  \n",
      " 6   sqft_lot       21597 non-null  int64  \n",
      " 7   floors         21597 non-null  float64\n",
      " 8   waterfront     21597 non-null  float64\n",
      " 9   view           21597 non-null  float64\n",
      " 10  condition      21597 non-null  int64  \n",
      " 11  grade          21597 non-null  int64  \n",
      " 12  sqft_above     21597 non-null  int64  \n",
      " 13  sqft_basement  21597 non-null  object \n",
      " 14  yr_built       21597 non-null  int64  \n",
      " 15  yr_renovated   21597 non-null  float64\n",
      " 16  zipcode        21597 non-null  int64  \n",
      " 17  lat            21597 non-null  float64\n",
      " 18  long           21597 non-null  float64\n",
      " 19  sqft_living15  21597 non-null  int64  \n",
      " 20  sqft_lot15     21597 non-null  int64  \n",
      "dtypes: float64(8), int64(11), object(2)\n",
      "memory usage: 3.5+ MB\n"
     ]
    }
   ],
   "source": [
    "data.info()"
   ]
  },
  {
   "cell_type": "code",
   "execution_count": 6,
   "metadata": {},
   "outputs": [],
   "source": [
    "#Convert zipcode to a str\n",
    "\n",
    "data['zipcode_str'] = data['zipcode'].apply(lambda x: str(x))"
   ]
  },
  {
   "cell_type": "code",
   "execution_count": 7,
   "metadata": {},
   "outputs": [],
   "source": [
    "#Restructure yr_built into a continuous variable called 'age'\n",
    "\n",
    "data['age'] = data['yr_built'].apply(lambda x: 2021 - x)"
   ]
  },
  {
   "cell_type": "code",
   "execution_count": 8,
   "metadata": {},
   "outputs": [],
   "source": [
    "#create 'ever_refurbished' to reflect whether or not a house has even been refurbished\n",
    "\n",
    "data['refurbished'] = np.where((data['yr_renovated'] > 0),1,0)"
   ]
  },
  {
   "cell_type": "code",
   "execution_count": 9,
   "metadata": {},
   "outputs": [
    {
     "data": {
      "text/plain": [
       "['price',\n",
       " 'sqft_living',\n",
       " 'sqft_lot',\n",
       " 'grade',\n",
       " 'sqft_above',\n",
       " 'sqft_living15',\n",
       " 'sqft_lot15',\n",
       " 'age',\n",
       " 'bedrooms',\n",
       " 'bathrooms',\n",
       " 'floors',\n",
       " 'waterfront',\n",
       " 'condition',\n",
       " 'zipcode_str',\n",
       " 'refurbished',\n",
       " 'view']"
      ]
     },
     "execution_count": 9,
     "metadata": {},
     "output_type": "execute_result"
    }
   ],
   "source": [
    "#Establish new Cont and Cat data\n",
    "\n",
    "cont_data = ['price',\n",
    " 'sqft_living',\n",
    " 'sqft_lot',\n",
    " 'grade',\n",
    " 'sqft_above',\n",
    " 'sqft_living15',\n",
    " 'sqft_lot15',\n",
    " 'age']\n",
    "\n",
    "cat_data = [\n",
    " 'bedrooms',\n",
    " 'bathrooms',\n",
    " 'floors',\n",
    " 'waterfront',\n",
    " 'condition',\n",
    " 'zipcode_str',\n",
    " 'refurbished', 'view']\n",
    "\n",
    "features = cont_data + cat_data\n",
    "\n",
    "features"
   ]
  },
  {
   "cell_type": "code",
   "execution_count": 68,
   "metadata": {},
   "outputs": [],
   "source": [
    "from sklearn.preprocessing import StandardScaler, MinMaxScaler, RobustScaler\n",
    "\n",
    "scaler = StandardScaler()\n",
    "\n",
    "core_data = data[features]\n",
    "\n",
    "core_data = pd.get_dummies(core_data)\n",
    "\n",
    "columns = core_data.columns\n",
    "\n",
    "#normalize all cont data\n",
    "\n",
    "core_cont_data = np.log(core_data[cont_data])\n",
    "\n",
    "core_cont_data\n",
    "\n",
    "#isolate rest of cat data\n",
    "\n",
    "core_cat_features = []\n",
    "\n",
    "for item in core_data.columns:\n",
    "    if item not in core_cont_data.columns:\n",
    "        core_cat_features.append(item)\n",
    "        \n",
    "core_cat_features\n",
    "\n",
    "#rejoin cont and cat data\n",
    "\n",
    "features_df = pd.concat([core_cont_data, core_data[core_cat_features]], axis = 1)\n",
    "                         \n",
    "features_df\n",
    "\n",
    "#scale all data\n",
    "\n",
    "features_df = pd.DataFrame(scaler.fit_transform(features_df), columns = features_df.columns)\n",
    "\n",
    "features_df\n",
    "\n",
    "X = features_df.drop('price', axis = 1)\n",
    "y = features_df['price']"
   ]
  },
  {
   "cell_type": "code",
   "execution_count": 71,
   "metadata": {},
   "outputs": [
    {
     "name": "stdout",
     "output_type": "stream",
     "text": [
      "0.8814655255648326\n",
      "{'sqft_living': 0.21682235695983412, 'sqft_lot': 0.1389923246000646, 'grade': 0.17796504197297094, 'sqft_above': 0.13464342557647815, 'sqft_living15': 0.10908912984601406, 'sqft_lot15': -0.03136430756678149, 'age': -0.032623632518135645, 'bedrooms': -0.0284158255052357, 'bathrooms': 0.05356213737807217, 'floors': -0.03779348591102463, 'waterfront': 0.0780503210538751, 'condition': 0.07206407446201571, 'refurbished': 0.029642660517861866, 'view': 0.09598195113721396, 'zipcode_str_98001': -130912030818.13092, 'zipcode_str_98002': -97566950373.5355, 'zipcode_str_98003': -115513211700.90297, 'zipcode_str_98004': -122801887952.89868, 'zipcode_str_98005': -89710895954.42862, 'zipcode_str_98006': -153262253949.5791, 'zipcode_str_98007': -82238188879.79767, 'zipcode_str_98008': -116122211781.25673, 'zipcode_str_98010': -69323188379.76318, 'zipcode_str_98011': -96590427075.86151, 'zipcode_str_98014': -77151931907.72432, 'zipcode_str_98019': -95355183398.98367, 'zipcode_str_98022': -105489405772.1447, 'zipcode_str_98023': -153412418877.4625, 'zipcode_str_98024': -62033381295.82431, 'zipcode_str_98027': -139685859035.76657, 'zipcode_str_98028': -116122211781.3081, 'zipcode_str_98029': -123562619819.09793, 'zipcode_str_98030': -110513915531.02715, 'zipcode_str_98031': -114078883280.62079, 'zipcode_str_98032': -77460599975.72691, 'zipcode_str_98033': -142968582273.1572, 'zipcode_str_98034': -160152798750.13144, 'zipcode_str_98038': -166318133515.34854, 'zipcode_str_98039': -49075870158.549805, 'zipcode_str_98040': -115919586536.63232, 'zipcode_str_98042': -160438766382.23688, 'zipcode_str_98045': -102535515644.40657, 'zipcode_str_98052': -164245277825.56198, 'zipcode_str_98053': -138181081942.41827, 'zipcode_str_98055': -113042627875.84602, 'zipcode_str_98056': -138684633547.266, 'zipcode_str_98058': -146645362465.90863, 'zipcode_str_98059': -148679810488.9761, 'zipcode_str_98065': -121071685922.87567, 'zipcode_str_98070': -74954838051.29724, 'zipcode_str_98072': -114078883280.53786, 'zipcode_str_98074': -144419445996.12964, 'zipcode_str_98075': -130555037332.32678, 'zipcode_str_98077': -97323772589.88353, 'zipcode_str_98092': -129116500769.01585, 'zipcode_str_98102': -70689480457.22224, 'zipcode_str_98103': -168091512834.6885, 'zipcode_str_98105': -104589787216.43488, 'zipcode_str_98106': -126186838956.24078, 'zipcode_str_98107': -112625317146.39993, 'zipcode_str_98108': -94354919537.31122, 'zipcode_str_98109': -72360381418.29184, 'zipcode_str_98112': -113250676986.1416, 'zipcode_str_98115': -165492471596.19788, 'zipcode_str_98116': -125256331004.55493, 'zipcode_str_98117': -161293294606.98837, 'zipcode_str_98118': -154607967287.09332, 'zipcode_str_98119': -93850646958.41518, 'zipcode_str_98122': -117530275089.43227, 'zipcode_str_98125': -139186218851.03177, 'zipcode_str_98126': -129657951662.88194, 'zipcode_str_98133': -152508991602.74313, 'zipcode_str_98136': -111996285864.37167, 'zipcode_str_98144': -127660634581.53784, 'zipcode_str_98146': -117129793963.62842, 'zipcode_str_98148': -52390178492.60422, 'zipcode_str_98155': -145218679308.11023, 'zipcode_str_98166': -110086532174.25331, 'zipcode_str_98168': -113250676986.35281, 'zipcode_str_98177': -110300440985.42511, 'zipcode_str_98178': -111785782192.43117, 'zipcode_str_98188': -80776314139.79143, 'zipcode_str_98198': -115513211700.89336, 'zipcode_str_98199': -122801887952.944}\n"
     ]
    }
   ],
   "source": [
    "#Train Test Split\n",
    "\n",
    "from sklearn.model_selection import train_test_split\n",
    "\n",
    "X_train, X_test, y_train, y_test = train_test_split(X, y, test_size=0.33, random_state=42)\n",
    "\n",
    "final_regression.fit(X_train, y_train)\n",
    "\n",
    "coefs_dict = dict(zip(X_train.columns, final_regression.coef_))\n",
    "\n",
    "print(final_regression.score(X, y))\n",
    "print(final_regression.inter\n",
    "\n",
    "coefs_dict"
   ]
  },
  {
   "cell_type": "code",
   "execution_count": null,
   "metadata": {},
   "outputs": [],
   "source": []
  }
 ],
 "metadata": {
  "kernelspec": {
   "display_name": "Python 3",
   "language": "python",
   "name": "python3"
  },
  "language_info": {
   "codemirror_mode": {
    "name": "ipython",
    "version": 3
   },
   "file_extension": ".py",
   "mimetype": "text/x-python",
   "name": "python",
   "nbconvert_exporter": "python",
   "pygments_lexer": "ipython3",
   "version": "3.8.5"
  }
 },
 "nbformat": 4,
 "nbformat_minor": 4
}
