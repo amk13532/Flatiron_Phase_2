{
 "cells": [
  {
   "cell_type": "markdown",
   "metadata": {},
   "source": [
    "## Phase 2 Project Submission\n",
    "\n",
    "Please fill out:\n",
    "* Student name: Angelo Matthew Gayanelo\n",
    "* Student pace: part time\n",
    "* Scheduled project review date/time: June 30th, 2:30PM\n",
    "* Instructor name:  Lindsey Berlin"
   ]
  },
  {
   "cell_type": "markdown",
   "metadata": {},
   "source": [
    "## Part I: Business Understanding\n",
    "\n",
    "King's Castles Corp is in the brainstorming phase of a new high end property development project. They are specifically interested in creating a luxurious enclosed subdivision with the express purpose of selling expensive homes.\n",
    "\n",
    "They're new to the housing industry, just having gone bankrupt due to bad data reccomendations from a prior film start up they had invested in, and are looking to be cautious in their next investment.\n",
    "\n",
    "They have tasked you with finding the core features that can help drive up price, and more importantly, quantifying how those features effect price.\n",
    "\n"
   ]
  },
  {
   "cell_type": "markdown",
   "metadata": {},
   "source": [
    "## Part II: Data Understanding\n",
    "\n",
    "The data contains a range of features including square footage, bedrooms, location, a grade (based on a King County), and other variables.\n",
    "\n",
    "Initial understanding of real estate markets will lead us to focus on square footage and location during model construction, but all other variables will be iterated through during modelling to determine any unseen relationshiops."
   ]
  },
  {
   "cell_type": "code",
   "execution_count": 92,
   "metadata": {},
   "outputs": [],
   "source": [
    "#Import Initial Libraries and Data Set\n",
    "\n",
    "from sklearn.linear_model import LinearRegression\n",
    "from sklearn.model_selection import cross_val_score\n",
    "from sklearn.model_selection import KFold\n",
    "import pandas as pd\n",
    "import numpy as np\n",
    "import matplotlib.pyplot as plt\n",
    "\n",
    "data = pd.read_csv('data/kc_house_data.csv')"
   ]
  },
  {
   "cell_type": "code",
   "execution_count": 93,
   "metadata": {},
   "outputs": [
    {
     "data": {
      "text/html": [
       "<div>\n",
       "<style scoped>\n",
       "    .dataframe tbody tr th:only-of-type {\n",
       "        vertical-align: middle;\n",
       "    }\n",
       "\n",
       "    .dataframe tbody tr th {\n",
       "        vertical-align: top;\n",
       "    }\n",
       "\n",
       "    .dataframe thead th {\n",
       "        text-align: right;\n",
       "    }\n",
       "</style>\n",
       "<table border=\"1\" class=\"dataframe\">\n",
       "  <thead>\n",
       "    <tr style=\"text-align: right;\">\n",
       "      <th></th>\n",
       "      <th>id</th>\n",
       "      <th>date</th>\n",
       "      <th>price</th>\n",
       "      <th>bedrooms</th>\n",
       "      <th>bathrooms</th>\n",
       "      <th>sqft_living</th>\n",
       "      <th>sqft_lot</th>\n",
       "      <th>floors</th>\n",
       "      <th>waterfront</th>\n",
       "      <th>view</th>\n",
       "      <th>...</th>\n",
       "      <th>grade</th>\n",
       "      <th>sqft_above</th>\n",
       "      <th>sqft_basement</th>\n",
       "      <th>yr_built</th>\n",
       "      <th>yr_renovated</th>\n",
       "      <th>zipcode</th>\n",
       "      <th>lat</th>\n",
       "      <th>long</th>\n",
       "      <th>sqft_living15</th>\n",
       "      <th>sqft_lot15</th>\n",
       "    </tr>\n",
       "  </thead>\n",
       "  <tbody>\n",
       "    <tr>\n",
       "      <th>0</th>\n",
       "      <td>7129300520</td>\n",
       "      <td>10/13/2014</td>\n",
       "      <td>221,900.00</td>\n",
       "      <td>3</td>\n",
       "      <td>1.00</td>\n",
       "      <td>1180</td>\n",
       "      <td>5650</td>\n",
       "      <td>1.00</td>\n",
       "      <td>nan</td>\n",
       "      <td>0.00</td>\n",
       "      <td>...</td>\n",
       "      <td>7</td>\n",
       "      <td>1180</td>\n",
       "      <td>0.0</td>\n",
       "      <td>1955</td>\n",
       "      <td>0.00</td>\n",
       "      <td>98178</td>\n",
       "      <td>47.51</td>\n",
       "      <td>-122.26</td>\n",
       "      <td>1340</td>\n",
       "      <td>5650</td>\n",
       "    </tr>\n",
       "    <tr>\n",
       "      <th>1</th>\n",
       "      <td>6414100192</td>\n",
       "      <td>12/9/2014</td>\n",
       "      <td>538,000.00</td>\n",
       "      <td>3</td>\n",
       "      <td>2.25</td>\n",
       "      <td>2570</td>\n",
       "      <td>7242</td>\n",
       "      <td>2.00</td>\n",
       "      <td>0.00</td>\n",
       "      <td>0.00</td>\n",
       "      <td>...</td>\n",
       "      <td>7</td>\n",
       "      <td>2170</td>\n",
       "      <td>400.0</td>\n",
       "      <td>1951</td>\n",
       "      <td>1,991.00</td>\n",
       "      <td>98125</td>\n",
       "      <td>47.72</td>\n",
       "      <td>-122.32</td>\n",
       "      <td>1690</td>\n",
       "      <td>7639</td>\n",
       "    </tr>\n",
       "    <tr>\n",
       "      <th>2</th>\n",
       "      <td>5631500400</td>\n",
       "      <td>2/25/2015</td>\n",
       "      <td>180,000.00</td>\n",
       "      <td>2</td>\n",
       "      <td>1.00</td>\n",
       "      <td>770</td>\n",
       "      <td>10000</td>\n",
       "      <td>1.00</td>\n",
       "      <td>0.00</td>\n",
       "      <td>0.00</td>\n",
       "      <td>...</td>\n",
       "      <td>6</td>\n",
       "      <td>770</td>\n",
       "      <td>0.0</td>\n",
       "      <td>1933</td>\n",
       "      <td>nan</td>\n",
       "      <td>98028</td>\n",
       "      <td>47.74</td>\n",
       "      <td>-122.23</td>\n",
       "      <td>2720</td>\n",
       "      <td>8062</td>\n",
       "    </tr>\n",
       "    <tr>\n",
       "      <th>3</th>\n",
       "      <td>2487200875</td>\n",
       "      <td>12/9/2014</td>\n",
       "      <td>604,000.00</td>\n",
       "      <td>4</td>\n",
       "      <td>3.00</td>\n",
       "      <td>1960</td>\n",
       "      <td>5000</td>\n",
       "      <td>1.00</td>\n",
       "      <td>0.00</td>\n",
       "      <td>0.00</td>\n",
       "      <td>...</td>\n",
       "      <td>7</td>\n",
       "      <td>1050</td>\n",
       "      <td>910.0</td>\n",
       "      <td>1965</td>\n",
       "      <td>0.00</td>\n",
       "      <td>98136</td>\n",
       "      <td>47.52</td>\n",
       "      <td>-122.39</td>\n",
       "      <td>1360</td>\n",
       "      <td>5000</td>\n",
       "    </tr>\n",
       "    <tr>\n",
       "      <th>4</th>\n",
       "      <td>1954400510</td>\n",
       "      <td>2/18/2015</td>\n",
       "      <td>510,000.00</td>\n",
       "      <td>3</td>\n",
       "      <td>2.00</td>\n",
       "      <td>1680</td>\n",
       "      <td>8080</td>\n",
       "      <td>1.00</td>\n",
       "      <td>0.00</td>\n",
       "      <td>0.00</td>\n",
       "      <td>...</td>\n",
       "      <td>8</td>\n",
       "      <td>1680</td>\n",
       "      <td>0.0</td>\n",
       "      <td>1987</td>\n",
       "      <td>0.00</td>\n",
       "      <td>98074</td>\n",
       "      <td>47.62</td>\n",
       "      <td>-122.05</td>\n",
       "      <td>1800</td>\n",
       "      <td>7503</td>\n",
       "    </tr>\n",
       "  </tbody>\n",
       "</table>\n",
       "<p>5 rows × 21 columns</p>\n",
       "</div>"
      ],
      "text/plain": [
       "           id        date      price  bedrooms  bathrooms  sqft_living  \\\n",
       "0  7129300520  10/13/2014 221,900.00         3       1.00         1180   \n",
       "1  6414100192   12/9/2014 538,000.00         3       2.25         2570   \n",
       "2  5631500400   2/25/2015 180,000.00         2       1.00          770   \n",
       "3  2487200875   12/9/2014 604,000.00         4       3.00         1960   \n",
       "4  1954400510   2/18/2015 510,000.00         3       2.00         1680   \n",
       "\n",
       "   sqft_lot  floors  waterfront  view  ...  grade  sqft_above  sqft_basement  \\\n",
       "0      5650    1.00         nan  0.00  ...      7        1180            0.0   \n",
       "1      7242    2.00        0.00  0.00  ...      7        2170          400.0   \n",
       "2     10000    1.00        0.00  0.00  ...      6         770            0.0   \n",
       "3      5000    1.00        0.00  0.00  ...      7        1050          910.0   \n",
       "4      8080    1.00        0.00  0.00  ...      8        1680            0.0   \n",
       "\n",
       "  yr_built  yr_renovated  zipcode   lat    long  sqft_living15  sqft_lot15  \n",
       "0     1955          0.00    98178 47.51 -122.26           1340        5650  \n",
       "1     1951      1,991.00    98125 47.72 -122.32           1690        7639  \n",
       "2     1933           nan    98028 47.74 -122.23           2720        8062  \n",
       "3     1965          0.00    98136 47.52 -122.39           1360        5000  \n",
       "4     1987          0.00    98074 47.62 -122.05           1800        7503  \n",
       "\n",
       "[5 rows x 21 columns]"
      ]
     },
     "execution_count": 93,
     "metadata": {},
     "output_type": "execute_result"
    }
   ],
   "source": [
    "#Quick Look at Data\n",
    "\n",
    "data.head()"
   ]
  },
  {
   "cell_type": "markdown",
   "metadata": {},
   "source": [
    "## Part III A: Data Clean Up and Categorization\n",
    "\n",
    "Data will undergo the following clean up process:\n",
    "\n",
    "1. Identification of NA values, which will be converted to 0, or dropped if deemed un nescessary\n",
    "2. Seperation into Catgerical and Continuous Variables\n",
    "3. Run through an initial Model to determine viability of preparation"
   ]
  },
  {
   "cell_type": "code",
   "execution_count": 94,
   "metadata": {},
   "outputs": [
    {
     "data": {
      "text/plain": [
       "id                  0\n",
       "date                0\n",
       "price               0\n",
       "bedrooms            0\n",
       "bathrooms           0\n",
       "sqft_living         0\n",
       "sqft_lot            0\n",
       "floors              0\n",
       "waterfront       2376\n",
       "view               63\n",
       "condition           0\n",
       "grade               0\n",
       "sqft_above          0\n",
       "sqft_basement       0\n",
       "yr_built            0\n",
       "yr_renovated     3842\n",
       "zipcode             0\n",
       "lat                 0\n",
       "long                0\n",
       "sqft_living15       0\n",
       "sqft_lot15          0\n",
       "dtype: int64"
      ]
     },
     "execution_count": 94,
     "metadata": {},
     "output_type": "execute_result"
    }
   ],
   "source": [
    "#Nan Value Clean Up\n",
    "\n",
    "data.isna().sum()"
   ]
  },
  {
   "cell_type": "code",
   "execution_count": 95,
   "metadata": {},
   "outputs": [
    {
     "name": "stdout",
     "output_type": "stream",
     "text": [
      "0.00    19422\n",
      "2.00      957\n",
      "3.00      508\n",
      "1.00      330\n",
      "4.00      317\n",
      "Name: view, dtype: int64\n",
      "0.00    19075\n",
      "1.00      146\n",
      "Name: waterfront, dtype: int64\n",
      "0.00        17011\n",
      "2,014.00       73\n",
      "2,003.00       31\n",
      "2,013.00       31\n",
      "2,007.00       30\n",
      "            ...  \n",
      "1,946.00        1\n",
      "1,959.00        1\n",
      "1,971.00        1\n",
      "1,951.00        1\n",
      "1,954.00        1\n",
      "Name: yr_renovated, Length: 70, dtype: int64\n"
     ]
    }
   ],
   "source": [
    "#Nan Value Checks\n",
    "\n",
    "print(data['view'].value_counts())\n",
    "print(data['waterfront'].value_counts())\n",
    "print(data['yr_renovated'].value_counts())"
   ]
  },
  {
   "cell_type": "code",
   "execution_count": 96,
   "metadata": {},
   "outputs": [],
   "source": [
    "#Convert NA values in 'waterfront' to 0\n",
    "\n",
    "data['view'] = data['view'].replace(np.nan, 0)\n",
    "\n",
    "#Convert NA values in 'waterfront' to 0\n",
    "\n",
    "data['waterfront'] = data['waterfront'].replace(np.nan, 0)\n",
    "\n",
    "#Convert NA values in 'yr_renovated' to 0\n",
    "\n",
    "data['yr_renovated'] = data['yr_renovated'].replace(np.nan, 0)"
   ]
  },
  {
   "cell_type": "code",
   "execution_count": 97,
   "metadata": {},
   "outputs": [
    {
     "name": "stdout",
     "output_type": "stream",
     "text": [
      "<class 'pandas.core.frame.DataFrame'>\n",
      "RangeIndex: 21597 entries, 0 to 21596\n",
      "Data columns (total 21 columns):\n",
      " #   Column         Non-Null Count  Dtype  \n",
      "---  ------         --------------  -----  \n",
      " 0   id             21597 non-null  int64  \n",
      " 1   date           21597 non-null  object \n",
      " 2   price          21597 non-null  float64\n",
      " 3   bedrooms       21597 non-null  int64  \n",
      " 4   bathrooms      21597 non-null  float64\n",
      " 5   sqft_living    21597 non-null  int64  \n",
      " 6   sqft_lot       21597 non-null  int64  \n",
      " 7   floors         21597 non-null  float64\n",
      " 8   waterfront     21597 non-null  float64\n",
      " 9   view           21597 non-null  float64\n",
      " 10  condition      21597 non-null  int64  \n",
      " 11  grade          21597 non-null  int64  \n",
      " 12  sqft_above     21597 non-null  int64  \n",
      " 13  sqft_basement  21597 non-null  object \n",
      " 14  yr_built       21597 non-null  int64  \n",
      " 15  yr_renovated   21597 non-null  float64\n",
      " 16  zipcode        21597 non-null  int64  \n",
      " 17  lat            21597 non-null  float64\n",
      " 18  long           21597 non-null  float64\n",
      " 19  sqft_living15  21597 non-null  int64  \n",
      " 20  sqft_lot15     21597 non-null  int64  \n",
      "dtypes: float64(8), int64(11), object(2)\n",
      "memory usage: 3.5+ MB\n"
     ]
    }
   ],
   "source": [
    "data.info()"
   ]
  },
  {
   "cell_type": "code",
   "execution_count": 98,
   "metadata": {},
   "outputs": [
    {
     "data": {
      "image/png": "[encoded data removed]",
      "text/plain": [
       "<Figure size 1440x1440 with 20 Axes>"
      ]
     },
     "metadata": {
      "needs_background": "light"
     },
     "output_type": "display_data"
    }
   ],
   "source": [
    "#Checking Potential Feature Types\n",
    "\n",
    "data.hist(figsize=(20,20));"
   ]
  },
  {
   "cell_type": "code",
   "execution_count": 99,
   "metadata": {},
   "outputs": [],
   "source": [
    "#Seperate Cat Data from Cont Data\n",
    "\n",
    "cont_data = ['sqft_living', 'sqft_lot', 'grade', 'sqft_above', 'sqft_living15', 'sqft_lot15', 'sqft_basement']\n",
    "\n",
    "cat_data = []\n",
    "\n",
    "target_variable =['price']\n",
    "\n",
    "for item in data.columns:\n",
    "    if item not in cont_data:\n",
    "        cat_data.append(item)"
   ]
  },
  {
   "cell_type": "code",
   "execution_count": 100,
   "metadata": {},
   "outputs": [],
   "source": [
    "#Fix question marks in basement\n",
    "\n",
    "data['sqft_basement'].replace({\"?\": float(0)}, inplace=True)"
   ]
  },
  {
   "cell_type": "code",
   "execution_count": 101,
   "metadata": {},
   "outputs": [],
   "source": [
    "#remove 'id', 'price' and 'basement' from cat_data\n",
    "\n",
    "cat_data.remove('id')\n",
    "\n",
    "cat_data.remove('price')\n",
    "\n",
    "cont_data.remove('sqft_basement')\n"
   ]
  },
  {
   "cell_type": "code",
   "execution_count": 102,
   "metadata": {},
   "outputs": [
    {
     "name": "stdout",
     "output_type": "stream",
     "text": [
      "cat_data: \n",
      "['date', 'bedrooms', 'bathrooms', 'floors', 'waterfront', 'view', 'condition', 'yr_built', 'yr_renovated', 'zipcode', 'lat', 'long']\n",
      "cont_data: \n",
      "['sqft_living', 'sqft_lot', 'grade', 'sqft_above', 'sqft_living15', 'sqft_lot15']\n"
     ]
    }
   ],
   "source": [
    "#Check cat_data and cont_data\n",
    "\n",
    "print('cat_data: ')\n",
    "print(cat_data)\n",
    "\n",
    "print('cont_data: ')\n",
    "print(cont_data)"
   ]
  },
  {
   "cell_type": "markdown",
   "metadata": {},
   "source": [
    "## Part III B: Data Processing\n",
    "\n",
    "Now that data has been segregated into its proper categories the following processing steps will take place along with modelling:\n",
    "\n",
    "1. Categorical Data will be split into different binary columns\n",
    "2. Continuous data will be normalized in order to ensure minimal heteroskedasticity\n",
    "3. Target Variable will be normalized in order to ensure minimal heteroskedasticity\n",
    "4. A features data set will be created in order to refer to processed data quickly later on"
   ]
  },
  {
   "cell_type": "code",
   "execution_count": 103,
   "metadata": {},
   "outputs": [],
   "source": [
    "#Quick Processing Data\n",
    "\n",
    "###Ignore warnings:\n",
    "\n",
    "import warnings\n",
    "warnings.filterwarnings(\"ignore\")\n",
    "\n",
    "from sklearn.preprocessing import StandardScaler, MinMaxScaler, RobustScaler\n",
    "\n",
    "#One Hot (So Hawt) Encode\n",
    "\n",
    "data_ohe = pd.get_dummies(data[cat_data], drop_first = True)\n",
    "\n",
    "#Create Cont Dataset\n",
    "\n",
    "data_cont = data[cont_data]\n",
    "\n",
    "#Log Cont Data\n",
    "\n",
    "logged_features = []\n",
    "\n",
    "for item in list(data_cont.columns):\n",
    "    data_cont[f'{item}_log'] = np.log(data_cont[item])\n",
    "    logged_features.append(f'{item}_log')\n",
    "    \n",
    "#Log Target Variable\n",
    "\n",
    "data['price_logged'] = np.log(data['price'])\n",
    "\n",
    "#Create Features DataFrame\n",
    "    \n",
    "features_df = pd.concat([data['price_logged'], data_cont[logged_features], data_ohe], axis = 1)"
   ]
  },
  {
   "cell_type": "markdown",
   "metadata": {},
   "source": [
    "## Part IV: Modelling and Adhoc Data Prep\n",
    "\n",
    "Modelling will undergo an interative process which will involve the following steps:\n",
    "\n",
    "1. Running an initial baseline model (worst model)\n",
    "2. Feature engineering\n",
    "3. Checking for Heteroskedasticity\n",
    "4. Checking for Multicolinearity\n",
    "5. Ensuring are R2 of 85% or higher"
   ]
  },
  {
   "cell_type": "code",
   "execution_count": 104,
   "metadata": {},
   "outputs": [
    {
     "data": {
      "text/plain": [
       "-914932085548734.4"
      ]
     },
     "execution_count": 104,
     "metadata": {},
     "output_type": "execute_result"
    }
   ],
   "source": [
    "#Model 1: Dumbest Model\n",
    "\n",
    "#Establish X and y\n",
    "\n",
    "X = features_df.drop(columns = ['price_logged'])\n",
    "y = features_df['price_logged']\n",
    "\n",
    "#Instantiate Linear Regression and execute Cross Val Score for Model Validation\n",
    "\n",
    "linreg = LinearRegression()\n",
    "\n",
    "np.mean(cross_val_score(linreg, X, y, cv = 10, scoring='r2'))\n"
   ]
  },
  {
   "cell_type": "markdown",
   "metadata": {},
   "source": [
    "### Part IV Model 1: Results\n",
    "\n",
    "Initial R2 scores are very low, and potentially the result of too many features in the model. \n",
    "\n",
    "Resulting R2 of -914932085548734.4\n",
    "\n",
    "#### Next Actions:\n",
    "\n",
    "In order to mitigate this, a second model will be run which will only use the continuous variables."
   ]
  },
  {
   "cell_type": "code",
   "execution_count": 105,
   "metadata": {},
   "outputs": [
    {
     "data": {
      "text/plain": [
       "0.5516699588367212"
      ]
     },
     "execution_count": 105,
     "metadata": {},
     "output_type": "execute_result"
    }
   ],
   "source": [
    "#Model 2: Model without Categorical Features\n",
    "\n",
    "#Establish X and y\n",
    "\n",
    "X = features_df[logged_features]\n",
    "y = features_df['price_logged']\n",
    "\n",
    "#Instantiate Linear Regression and execute Cross Val Score for Model Validation\n",
    "\n",
    "linreg = LinearRegression()\n",
    "\n",
    "np.mean(cross_val_score(linreg, X, y, cv = 10, scoring='r2'))"
   ]
  },
  {
   "cell_type": "markdown",
   "metadata": {},
   "source": [
    "### Part IV Model 2: Results\n",
    "\n",
    "R2 scores appear to be much higher when Categorical Variables are removed which indicates that Categorical variables may be the reason behind low R2 scores in Model 1. \n",
    "\n",
    "Resulting R2 of 0.5879312093456035\n",
    "\n",
    "#### Next Actions:\n",
    "\n",
    "In order to mitigate this, the Categorical Variables which result in the most dummy columns will be categorized.\n",
    "\n",
    "The following will be assessed first:\n",
    "\n",
    "'yr_built', 'yr_renovated', 'zipcode'\n"
   ]
  },
  {
   "cell_type": "code",
   "execution_count": 106,
   "metadata": {},
   "outputs": [
    {
     "name": "stdout",
     "output_type": "stream",
     "text": [
      "yr_built unique values: \n",
      "116\n",
      "yr_renovated unique values: \n",
      "70\n",
      "zipcode unique values: \n",
      "70\n"
     ]
    }
   ],
   "source": [
    "#Unique Value Counts for 'yr_built', 'yr_renovated', 'zipcode'\n",
    "\n",
    "print('yr_built unique values: ')\n",
    "print(len(data['yr_built'].unique()))\n",
    "\n",
    "print('yr_renovated unique values: ')\n",
    "print(len(data['yr_renovated'].unique()))\n",
    "\n",
    "print('zipcode unique values: ')\n",
    "print(len(data['zipcode'].unique()))"
   ]
  },
  {
   "cell_type": "code",
   "execution_count": 107,
   "metadata": {},
   "outputs": [],
   "source": [
    "#Restructure yr_built into a continuous variable called 'age'\n",
    "\n",
    "data['age'] = data['yr_built'].apply(lambda x: 2021 - x)\n"
   ]
  },
  {
   "cell_type": "code",
   "execution_count": 108,
   "metadata": {},
   "outputs": [],
   "source": [
    "#Restructure yr_rennovated into a continuous variable called 'renovated_x_years_ago'\n",
    "\n",
    "data['renovated_x_years_ago'] = data['yr_renovated'].apply(lambda x: 2021 - x if x != 0 else 0)"
   ]
  },
  {
   "cell_type": "code",
   "execution_count": 109,
   "metadata": {},
   "outputs": [
    {
     "data": {
      "text/plain": [
       "Never Refurbished                     20853\n",
       "Refurbished More than 10 Years Ago      609\n",
       "Refurbished less than 10 Years Ago      135\n",
       "Name: refurbished, dtype: int64"
      ]
     },
     "execution_count": 109,
     "metadata": {},
     "output_type": "execute_result"
    }
   ],
   "source": [
    "#Create new buckets for refurbished data\n",
    "\n",
    "def refurbished(x):\n",
    "    if x == 0:\n",
    "        return \"Never Refurbished\"\n",
    "    elif x <= 10:\n",
    "        return \"Refurbished less than 10 Years Ago\"\n",
    "    else:\n",
    "        return \"Refurbished More than 10 Years Ago\"\n",
    "    \n",
    "refurbished(9)\n",
    "\n",
    "data['refurbished'] = data['renovated_x_years_ago'].apply(lambda x: refurbished(x))\n",
    "\n",
    "#Refurbished Data Check\n",
    "\n",
    "data[data['renovated_x_years_ago'] > 10][['refurbished', 'renovated_x_years_ago']]\n",
    "\n",
    "data['refurbished'].value_counts()"
   ]
  },
  {
   "cell_type": "code",
   "execution_count": 110,
   "metadata": {},
   "outputs": [
    {
     "data": {
      "text/plain": [
       "Index(['id', 'date', 'price', 'bedrooms', 'bathrooms', 'sqft_living',\n",
       "       'sqft_lot', 'floors', 'waterfront', 'view', 'condition', 'grade',\n",
       "       'sqft_above', 'sqft_basement', 'yr_built', 'yr_renovated', 'zipcode',\n",
       "       'lat', 'long', 'sqft_living15', 'sqft_lot15', 'price_logged', 'age',\n",
       "       'renovated_x_years_ago', 'refurbished'],\n",
       "      dtype='object')"
      ]
     },
     "execution_count": 110,
     "metadata": {},
     "output_type": "execute_result"
    }
   ],
   "source": [
    "data.columns"
   ]
  },
  {
   "cell_type": "code",
   "execution_count": 111,
   "metadata": {},
   "outputs": [],
   "source": [
    "#Adding Age to Cont Data\n",
    "\n",
    "cont_data = [\n",
    " 'sqft_living',\n",
    " 'sqft_lot',\n",
    " 'grade',\n",
    " 'sqft_above',\n",
    " 'sqft_living15',\n",
    " 'sqft_lot15',\n",
    " 'age']"
   ]
  },
  {
   "cell_type": "code",
   "execution_count": 112,
   "metadata": {},
   "outputs": [],
   "source": [
    "#Removing 'date', lat', 'long', 'yr_built', and 'yr_renovated' from Cat Data\n",
    "\n",
    "cat_data = [\n",
    " 'bedrooms',\n",
    " 'bathrooms',\n",
    " 'floors',\n",
    " 'waterfront',\n",
    " 'view',\n",
    " 'condition',\n",
    " 'zipcode',\n",
    " 'refurbished']"
   ]
  },
  {
   "cell_type": "code",
   "execution_count": 113,
   "metadata": {},
   "outputs": [],
   "source": [
    "#Recreate Features Data Set\n",
    "\n",
    "#Quick Processing Data\n",
    "\n",
    "###Ignore warnings:\n",
    "\n",
    "###Ignore warnings:\n",
    "\n",
    "import warnings\n",
    "warnings.filterwarnings(\"ignore\")\n",
    "\n",
    "from sklearn.preprocessing import StandardScaler, MinMaxScaler, RobustScaler\n",
    "\n",
    "#One Hot (So Hawt) Encode\n",
    "\n",
    "data_ohe = pd.get_dummies(data[cat_data], drop_first = True)\n",
    "\n",
    "#Create Cont Dataset\n",
    "\n",
    "data_cont = data[cont_data]\n",
    "\n",
    "#Log Cont Data\n",
    "\n",
    "logged_features = []\n",
    "\n",
    "for item in list(data_cont.columns):\n",
    "    data_cont[f'{item}_log'] = np.log(data_cont[item])\n",
    "    logged_features.append(f'{item}_log')\n",
    "    \n",
    "#Log Target Variable\n",
    "\n",
    "data['price_logged'] = np.log(data['price'])\n",
    "\n",
    "#Create Features DataFrame\n",
    "    \n",
    "features_df = pd.concat([data['price_logged'], data_cont[logged_features], data_ohe], axis = 1)"
   ]
  },
  {
   "cell_type": "code",
   "execution_count": 114,
   "metadata": {},
   "outputs": [
    {
     "data": {
      "text/plain": [
       "0.6242158568177623"
      ]
     },
     "execution_count": 114,
     "metadata": {},
     "output_type": "execute_result"
    }
   ],
   "source": [
    "#Model 3: Model without 'lat', 'long', 'yr_built', and 'yr_renovated' but now includes 'refurbished' and 'age'\n",
    "\n",
    "#Establish X and y\n",
    "\n",
    "X = features_df.drop(['price_logged'], axis = 1)\n",
    "y = features_df['price_logged']\n",
    "\n",
    "#Instantiate Linear Regression and execute Cross Val Score for Model Validation\n",
    "\n",
    "linreg = LinearRegression()\n",
    "\n",
    "np.mean(cross_val_score(linreg, X, y, cv = 10, scoring='r2'))"
   ]
  },
  {
   "cell_type": "markdown",
   "metadata": {},
   "source": [
    "### Part IV Model 3 Results\n",
    "\n",
    "R2 scores have marginally improved, but location is currently being ignored as the get_dummies function is not recognizing the 'zipcode' feature as a categorical variable. \n",
    "\n",
    "Resulting R2: 0.6242158568177623\n",
    "\n",
    "#### Next Actions:\n",
    "\n",
    "Model 4 will turn Zipcode into str and use it to create 70 binary columns."
   ]
  },
  {
   "cell_type": "code",
   "execution_count": 115,
   "metadata": {},
   "outputs": [],
   "source": [
    "#Convert zipcode to a str\n",
    "\n",
    "data['zipcode_str'] = data['zipcode'].apply(lambda x: str(x))"
   ]
  },
  {
   "cell_type": "code",
   "execution_count": 116,
   "metadata": {},
   "outputs": [],
   "source": [
    "#Establish new Cont and Cat data\n",
    "\n",
    "cont_data = [\n",
    " 'sqft_living',\n",
    " 'sqft_lot',\n",
    " 'grade',\n",
    " 'sqft_above',\n",
    " 'sqft_living15',\n",
    " 'sqft_lot15',\n",
    " 'age']\n",
    "\n",
    "cat_data = [\n",
    " 'bedrooms',\n",
    " 'bathrooms',\n",
    " 'floors',\n",
    " 'waterfront',\n",
    " 'view',\n",
    " 'condition',\n",
    " 'zipcode_str',\n",
    " 'refurbished']"
   ]
  },
  {
   "cell_type": "code",
   "execution_count": 117,
   "metadata": {},
   "outputs": [],
   "source": [
    "#Recreate Features Data Set\n",
    "\n",
    "#Quick Processing Data\n",
    "\n",
    "###Ignore warnings:\n",
    "\n",
    "###Ignore warnings:\n",
    "\n",
    "import warnings\n",
    "warnings.filterwarnings(\"ignore\")\n",
    "\n",
    "from sklearn.preprocessing import StandardScaler, MinMaxScaler, RobustScaler\n",
    "\n",
    "#One Hot (So Hawt) Encode\n",
    "\n",
    "data_ohe = pd.get_dummies(data[cat_data], drop_first = True)\n",
    "\n",
    "#Create Cont Dataset\n",
    "\n",
    "data_cont = data[cont_data]\n",
    "\n",
    "#Log Cont Data\n",
    "\n",
    "logged_features = []\n",
    "\n",
    "for item in list(data_cont.columns):\n",
    "    data_cont[f'{item}_log'] = np.log(data_cont[item])\n",
    "    logged_features.append(f'{item}_log')\n",
    "    \n",
    "#Log Target Variable\n",
    "\n",
    "data['price_logged'] = np.log(data['price'])\n",
    "\n",
    "#Create Features DataFrame\n",
    "    \n",
    "features_df = pd.concat([data['price_logged'], data_cont[logged_features], data_ohe], axis = 1)"
   ]
  },
  {
   "cell_type": "code",
   "execution_count": 118,
   "metadata": {},
   "outputs": [
    {
     "data": {
      "text/plain": [
       "0.8791097638815346"
      ]
     },
     "execution_count": 118,
     "metadata": {},
     "output_type": "execute_result"
    }
   ],
   "source": [
    "#Model 4: Model without 'lat', 'long', 'yr_built', and 'yr_renovated' but now includes 'refurbished' and 'age'\n",
    "\n",
    "#Establish X and y\n",
    "\n",
    "#Establish X and y\n",
    "\n",
    "X = features_df.drop(['price_logged'], axis = 1)\n",
    "y = features_df['price_logged']\n",
    "\n",
    "#Instantiate Linear Regression and execute Cross Val Score for Model Validation\n",
    "\n",
    "linreg = LinearRegression()\n",
    "\n",
    "np.mean(cross_val_score(linreg, X, y, cv = 10, scoring='r2'))"
   ]
  },
  {
   "cell_type": "markdown",
   "metadata": {},
   "source": [
    "### Part IV Model 4: Results\n",
    "\n",
    "Model 4 has resulted in a much higher R2 score, which I believe has resulted from taking location into account as a categorical variable split into different buckets.\n",
    "\n",
    "Resulting R2 Score: 0.8791097638815346\n",
    "\n",
    "#### Next Steps:\n",
    "\n",
    "As such the following steps will be taken:\n",
    "\n",
    "1. Check for further Heteroskedasticity and Polynomial Patterns\n",
    "2. Check for Multicolinearity\n",
    "3. Check for potential interactions\n",
    "4. Select features"
   ]
  },
  {
   "cell_type": "code",
   "execution_count": 119,
   "metadata": {},
   "outputs": [
    {
     "data": {
      "text/plain": [
       "Text(0, 0.5, 'Predicted')"
      ]
     },
     "execution_count": 119,
     "metadata": {},
     "output_type": "execute_result"
    },
    {
     "data": {
      "image/png": "[encoded data removed]",
      "text/plain": [
       "<Figure size 432x288 with 1 Axes>"
      ]
     },
     "metadata": {
      "needs_background": "light"
     },
     "output_type": "display_data"
    }
   ],
   "source": [
    "#Checking for further heteroskedasticity and potential polynomial patterns (code taken from Scikitlearn Doc\n",
    "#https://scikit-learn.org/stable/auto_examples/model_selection/plot_cv_predict.html#sphx-glr-auto-examples-model-selection-plot-cv-predict-py)\n",
    "\n",
    "from sklearn import datasets\n",
    "from sklearn.model_selection import cross_val_predict\n",
    "from sklearn import linear_model\n",
    "import matplotlib.pyplot as plt\n",
    "\n",
    "lr = linear_model.LinearRegression()\n",
    "\n",
    "# cross_val_predict returns an array of the same size as `y` where each entry\n",
    "# is a prediction obtained by cross validation:\n",
    "predicted = cross_val_predict(lr, X, y, cv=10)\n",
    "\n",
    "fig, ax = plt.subplots()\n",
    "ax.scatter(y, predicted, edgecolors=(0, 0, 0))\n",
    "ax.plot([y.min(), y.max()], [y.min(), y.max()], 'k--', lw=4)\n",
    "ax.set_xlabel('Measured')\n",
    "ax.set_ylabel('Predicted')"
   ]
  },
  {
   "cell_type": "markdown",
   "metadata": {},
   "source": [
    "## Heteroskedasticity Analysis Results:\n",
    "\n",
    "The model is relatively homoskedastic and linear. This is probably due to previously having normalized the features.\n",
    "\n",
    "No further actions will be taken on this front to enhance the model's accuracy."
   ]
  },
  {
   "cell_type": "code",
   "execution_count": 120,
   "metadata": {},
   "outputs": [
    {
     "data": {
      "text/html": [
       "<div>\n",
       "<style scoped>\n",
       "    .dataframe tbody tr th:only-of-type {\n",
       "        vertical-align: middle;\n",
       "    }\n",
       "\n",
       "    .dataframe tbody tr th {\n",
       "        vertical-align: top;\n",
       "    }\n",
       "\n",
       "    .dataframe thead th {\n",
       "        text-align: right;\n",
       "    }\n",
       "</style>\n",
       "<table border=\"1\" class=\"dataframe\">\n",
       "  <thead>\n",
       "    <tr style=\"text-align: right;\">\n",
       "      <th></th>\n",
       "      <th>cc</th>\n",
       "    </tr>\n",
       "    <tr>\n",
       "      <th>pairs</th>\n",
       "      <th></th>\n",
       "    </tr>\n",
       "  </thead>\n",
       "  <tbody>\n",
       "    <tr>\n",
       "      <th>(sqft_lot_log, sqft_lot15_log)</th>\n",
       "      <td>0.92</td>\n",
       "    </tr>\n",
       "    <tr>\n",
       "      <th>(sqft_living_log, sqft_above_log)</th>\n",
       "      <td>0.86</td>\n",
       "    </tr>\n",
       "    <tr>\n",
       "      <th>(bathrooms, sqft_living_log)</th>\n",
       "      <td>0.76</td>\n",
       "    </tr>\n",
       "  </tbody>\n",
       "</table>\n",
       "</div>"
      ],
      "text/plain": [
       "                                    cc\n",
       "pairs                                 \n",
       "(sqft_lot_log, sqft_lot15_log)    0.92\n",
       "(sqft_living_log, sqft_above_log) 0.86\n",
       "(bathrooms, sqft_living_log)      0.76"
      ]
     },
     "execution_count": 120,
     "metadata": {},
     "output_type": "execute_result"
    }
   ],
   "source": [
    "#   Checking for Multi-Colinearity (code copy pasted from Curriculum Lab: \n",
    "#   https://github.com/learn-co-curriculum/dsc-multicollinearity-of-features-lab/tree/solution)\n",
    "\n",
    "df = features_df.corr().abs().stack().reset_index().sort_values(0, ascending=False)\n",
    "\n",
    "df['pairs'] = list(zip(df.level_0, df.level_1))\n",
    "\n",
    "df.set_index(['pairs'], inplace = True)\n",
    "\n",
    "df.drop(columns=['level_1', 'level_0'], inplace = True)\n",
    "\n",
    "# cc for correlation coefficient\n",
    "df.columns = ['cc']\n",
    "\n",
    "df.drop_duplicates(inplace=True)\n",
    "\n",
    "colinear_pairs = df[(df.cc>.75) & (df.cc<1)]\n",
    "\n",
    "colinear_pairs"
   ]
  },
  {
   "cell_type": "code",
   "execution_count": 121,
   "metadata": {},
   "outputs": [
    {
     "data": {
      "text/html": [
       "<div>\n",
       "<style scoped>\n",
       "    .dataframe tbody tr th:only-of-type {\n",
       "        vertical-align: middle;\n",
       "    }\n",
       "\n",
       "    .dataframe tbody tr th {\n",
       "        vertical-align: top;\n",
       "    }\n",
       "\n",
       "    .dataframe thead th {\n",
       "        text-align: right;\n",
       "    }\n",
       "</style>\n",
       "<table border=\"1\" class=\"dataframe\">\n",
       "  <thead>\n",
       "    <tr style=\"text-align: right;\">\n",
       "      <th></th>\n",
       "      <th>pairs</th>\n",
       "      <th>colinearity</th>\n",
       "    </tr>\n",
       "  </thead>\n",
       "  <tbody>\n",
       "    <tr>\n",
       "      <th>0</th>\n",
       "      <td>(sqft_lot_log, sqft_lot15_log)</td>\n",
       "      <td>0.92</td>\n",
       "    </tr>\n",
       "    <tr>\n",
       "      <th>1</th>\n",
       "      <td>(sqft_living_log, sqft_above_log)</td>\n",
       "      <td>0.86</td>\n",
       "    </tr>\n",
       "    <tr>\n",
       "      <th>2</th>\n",
       "      <td>(bathrooms, sqft_living_log)</td>\n",
       "      <td>0.76</td>\n",
       "    </tr>\n",
       "  </tbody>\n",
       "</table>\n",
       "</div>"
      ],
      "text/plain": [
       "                               pairs  colinearity\n",
       "0     (sqft_lot_log, sqft_lot15_log)         0.92\n",
       "1  (sqft_living_log, sqft_above_log)         0.86\n",
       "2       (bathrooms, sqft_living_log)         0.76"
      ]
     },
     "execution_count": 121,
     "metadata": {},
     "output_type": "execute_result"
    }
   ],
   "source": [
    "#Create a colinear_pairs data frame\n",
    "\n",
    "colinear_pairs.columns = ['colinearity']\n",
    "\n",
    "colinear_pairs = colinear_pairs.reset_index(drop=False)\n",
    "\n",
    "colinear_pairs"
   ]
  },
  {
   "cell_type": "code",
   "execution_count": 122,
   "metadata": {},
   "outputs": [
    {
     "name": "stdout",
     "output_type": "stream",
     "text": [
      "Pairs to Potentially Drop:\n"
     ]
    },
    {
     "data": {
      "text/plain": [
       "0    sqft_lot15_log\n",
       "1    sqft_above_log\n",
       "2         bathrooms\n",
       "Name: lesser_coef, dtype: object"
      ]
     },
     "execution_count": 122,
     "metadata": {},
     "output_type": "execute_result"
    }
   ],
   "source": [
    "#Checking for most prominent features (code taken from curriculum)\n",
    "\n",
    "linreg.fit(X, y)\n",
    "\n",
    "myDict = dict(zip(X.columns, linreg.coef_))\n",
    "\n",
    "# Isolating least valuable features from colinear pairs\n",
    "\n",
    "colinear_pairs['pair_1'] = colinear_pairs['pairs'].apply(lambda x: x[0])\n",
    "colinear_pairs['pair_2'] = colinear_pairs['pairs'].apply(lambda x: x[1])\n",
    "colinear_pairs['coef_1'] = colinear_pairs['pair_1'].apply(lambda x: myDict[x])\n",
    "colinear_pairs['coef_2'] = colinear_pairs['pair_2'].apply(lambda x: myDict[x])\n",
    "colinear_pairs['lesser_coef'] = np.where((colinear_pairs['coef_1'] > colinear_pairs['coef_2']), \n",
    "                                          colinear_pairs['pair_2'], colinear_pairs['pair_1'])\n",
    "\n",
    "dropped_pairs = colinear_pairs['lesser_coef']\n",
    "\n",
    "print(f'Pairs to Potentially Drop:')\n",
    "dropped_pairs"
   ]
  },
  {
   "cell_type": "markdown",
   "metadata": {},
   "source": [
    "## Multicolinearity Analysis Results\n",
    "\n",
    "It appears that there are 4 pair candidates for Multicolinearity:\n",
    "\n",
    "0\t(sqft_lot_log_scaled, sqft_lot15_log_scaled)\t0.918712\n",
    "1\t(refurbished_Refurbished More than 10 Years Ag...\t0.901679\n",
    "2\t(sqft_living_log_scaled, sqft_above_log_scaled)\t0.865059\n",
    "3\t(sqft_living_log_scaled, bathrooms)\n",
    "\n",
    "In order to determine which feature to keep, a DF was created which isolated the most prominent feature.\n",
    "\n",
    "based on this analysis the following pairs have been reccomended to be dropped:\n",
    "\n",
    " 'sqft_lot15_log_scaled',\n",
    " 'refurbished_Never Refurbished',\n",
    " 'sqft_above_log_scaled',\n",
    " 'bathrooms'\n",
    " \n",
    " #### Next Actions:\n",
    " \n",
    " 1. It appears that sqft_lot15 is a function of the sqft_lot and will be dropped.\n",
    " 2. Refurbishing a house seems to have a binary effect on the model, wherein a refurbished house sells for more\n",
    "    regardless of when it was refurbished. In order to cut down on features, a new column will be created to\n",
    "    reflect that.\n",
    " 3. 'sqft_above' seems to also be a function of 'sqft_living' and will be dropped\n",
    " 4. Houses with larger floor plans have more bathrooms, but this doesn't mean that bathrooms is a function \n",
    "    of floor space, as such bathrooms will be kept."
   ]
  },
  {
   "cell_type": "code",
   "execution_count": 123,
   "metadata": {},
   "outputs": [
    {
     "name": "stdout",
     "output_type": "stream",
     "text": [
      "Cont Data:\n",
      "['sqft_living', 'sqft_lot', 'grade', 'sqft_living15', 'age']\n",
      "Cat Data:\n",
      "['bedrooms', 'bathrooms', 'floors', 'waterfront', 'view', 'condition', 'zipcode_str', 'refurbished']\n"
     ]
    }
   ],
   "source": [
    "#Create look up list of cat / cont features to be droppped\n",
    "\n",
    "dropped_colinear_features = ['sqft_lot15', 'sqft_above']\n",
    "\n",
    "def drop_colinear_features(feature_list):\n",
    "    for item in feature_list:\n",
    "        if item in dropped_colinear_features:\n",
    "            feature_list.remove(item)\n",
    "            \n",
    "drop_colinear_features(cat_data)\n",
    "drop_colinear_features(cont_data)\n",
    "\n",
    "print(f'Cont Data:')\n",
    "print(cont_data)\n",
    "\n",
    "print(f'Cat Data:')\n",
    "print(cat_data)"
   ]
  },
  {
   "cell_type": "code",
   "execution_count": 124,
   "metadata": {},
   "outputs": [],
   "source": [
    "#Drop first 'refurbished' and ' renovated_x_years_ago' columns\n",
    "\n",
    "data.drop(['refurbished'], axis = 1, inplace=True)\n",
    "data.drop(['renovated_x_years_ago'], axis = 1, inplace=True)\n",
    "\n",
    "#create 'ever_refurbished' to reflect whether or not a house has even been refurbished\n",
    "\n",
    "data['refurbished'] = np.where((data['yr_renovated'] > 0),1,0)"
   ]
  },
  {
   "cell_type": "code",
   "execution_count": 125,
   "metadata": {},
   "outputs": [],
   "source": [
    "#Recreate Features Data Set\n",
    "\n",
    "#Quick Processing Data\n",
    "\n",
    "###Ignore warnings:\n",
    "\n",
    "###Ignore warnings:\n",
    "\n",
    "import warnings\n",
    "warnings.filterwarnings(\"ignore\")\n",
    "\n",
    "from sklearn.preprocessing import StandardScaler, MinMaxScaler, RobustScaler\n",
    "\n",
    "#One Hot (So Hawt) Encode\n",
    "\n",
    "data_ohe = pd.get_dummies(data[cat_data], drop_first = True)\n",
    "\n",
    "#Create Cont Dataset\n",
    "\n",
    "data_cont = data[cont_data]\n",
    "\n",
    "#Log Cont Data\n",
    "\n",
    "logged_features = []\n",
    "\n",
    "for item in list(data_cont.columns):\n",
    "    data_cont[f'{item}_log'] = np.log(data_cont[item])\n",
    "    logged_features.append(f'{item}_log')\n",
    "    \n",
    "#Log Target Variable\n",
    "\n",
    "data['price_logged'] = np.log(data['price'])\n",
    "\n",
    "#Create Features DataFrame\n",
    "    \n",
    "features_df = pd.concat([data['price_logged'], data_cont[logged_features], data_ohe], axis = 1)"
   ]
  },
  {
   "cell_type": "code",
   "execution_count": 126,
   "metadata": {},
   "outputs": [
    {
     "data": {
      "text/plain": [
       "0.8758112330503414"
      ]
     },
     "execution_count": 126,
     "metadata": {},
     "output_type": "execute_result"
    }
   ],
   "source": [
    "##Model 5: Model 4 without colinearity and binary categorizaiton for refurbished\n",
    "\n",
    "#Establish X and y\n",
    "\n",
    "X = features_df\n",
    "X = X.drop(['price_logged'], axis = 1)\n",
    "y = features_df['price_logged']\n",
    "\n",
    "#Instantiate Linear Regression and execute Cross Val Score for Model Validation\n",
    "\n",
    "linreg = LinearRegression()\n",
    "\n",
    "baseline = np.mean(cross_val_score(linreg, X, y, cv = 10, scoring='r2'))\n",
    "\n",
    "baseline"
   ]
  },
  {
   "cell_type": "markdown",
   "metadata": {},
   "source": [
    "### Part IV Model 5 Results:\n",
    "\n",
    "Reducing features inevitably led to a reduction in the R2 score, however, I believe this will be beneficial\n",
    "when we begin exploring iterations. \n",
    "\n",
    "Resulting R2 Score: 0.8758112330503414\n",
    "\n",
    "#### Next steps:\n",
    "\n",
    "1. Create a polynomial & interaction dataset\n",
    "2. Iterate through the data set and determine which features result in increased R2 scores\n",
    "3. Select those features with the highest R2 Scores to be integrated into the model"
   ]
  },
  {
   "cell_type": "code",
   "execution_count": 127,
   "metadata": {},
   "outputs": [],
   "source": [
    "#Create Polynomial & Interaction Dataset to determine any further relationships/improvements to the model\n",
    "\n",
    "import numpy as np\n",
    "from sklearn.preprocessing import PolynomialFeatures\n",
    "\n",
    "poly = PolynomialFeatures(2)\n",
    "\n",
    "#Create a copy of X\n",
    "\n",
    "X2 = X.copy()\n",
    "\n",
    "#take out zipcodes to lessen iteration\n",
    "\n",
    "non_zipcode_features = []\n",
    "\n",
    "for item in X2.columns:\n",
    "    if 'zip' not in item:\n",
    "        non_zipcode_features.append(item)\n",
    "\n",
    "#Create polynomial features\n",
    "\n",
    "X2_poly = poly.fit_transform(X2[non_zipcode_features])\n",
    "\n",
    "#Get polynomial column names\n",
    "\n",
    "X2_poly_column_names = poly.get_feature_names(input_features = X.columns)\n",
    "\n",
    "#create polynomial features Data Frame\n",
    "\n",
    "X2_poly_df = pd.DataFrame(X2_poly)\n",
    "\n",
    "#add column names to polynomial features Data Frame\n",
    "\n",
    "X2_poly_df.columns = list(X2_poly_column_names)\n",
    "\n",
    "#Isolate New Features\n",
    "\n",
    "new_features = []\n",
    "\n",
    "for item in X2_poly_df.columns:\n",
    "    if item not in X.columns:\n",
    "        new_features.append(item)"
   ]
  },
  {
   "cell_type": "code",
   "execution_count": 128,
   "metadata": {},
   "outputs": [],
   "source": [
    "# #Locate Useful Features from Polynomial Data Set\n",
    "\n",
    "# useful_features = []\n",
    "# useful_scores = []\n",
    "\n",
    "# for item in new_features:\n",
    "    \n",
    "#     x_improve = pd.concat([X, X2_poly_df[item]], axis = 1)\n",
    "\n",
    "#     #Instantiate Linear Regression and execute Cross Val Score for Model Validation to establish baseline\n",
    "    \n",
    "#     new_score = np.mean(cross_val_score(linreg, x_improve, y, cv = 10, scoring='r2'))\n",
    "\n",
    "#     if new_score > baseline:\n",
    "#         useful_features.append(item)\n",
    "#         useful_scores.append(new_score)"
   ]
  },
  {
   "cell_type": "code",
   "execution_count": 129,
   "metadata": {},
   "outputs": [],
   "source": [
    "useful_features =['sqft_living_log^2',\n",
    " 'sqft_living_log sqft_lot_log',\n",
    " 'sqft_living_log grade_log',\n",
    " 'sqft_living_log sqft_living15_log',\n",
    " 'sqft_living_log age_log',\n",
    " 'sqft_living_log bedrooms',\n",
    " 'sqft_living_log bathrooms',\n",
    " 'sqft_living_log floors',\n",
    " 'sqft_living_log waterfront',\n",
    " 'sqft_living_log condition',\n",
    " 'sqft_living_log refurbished',\n",
    " 'sqft_lot_log^2',\n",
    " 'sqft_lot_log grade_log',\n",
    " 'sqft_lot_log sqft_living15_log',\n",
    " 'sqft_lot_log age_log',\n",
    " 'sqft_lot_log bedrooms',\n",
    " 'sqft_lot_log bathrooms',\n",
    " 'sqft_lot_log floors',\n",
    " 'sqft_lot_log waterfront',\n",
    " 'sqft_lot_log view',\n",
    " 'sqft_lot_log condition',\n",
    " 'grade_log^2',\n",
    " 'grade_log sqft_living15_log',\n",
    " 'grade_log age_log',\n",
    " 'grade_log bedrooms',\n",
    " 'grade_log bathrooms',\n",
    " 'grade_log floors',\n",
    " 'grade_log waterfront',\n",
    " 'grade_log view',\n",
    " 'grade_log condition',\n",
    " 'grade_log refurbished',\n",
    " 'sqft_living15_log^2',\n",
    " 'sqft_living15_log age_log',\n",
    " 'sqft_living15_log bedrooms',\n",
    " 'sqft_living15_log bathrooms',\n",
    " 'sqft_living15_log floors',\n",
    " 'sqft_living15_log waterfront',\n",
    " 'sqft_living15_log condition',\n",
    " 'age_log^2',\n",
    " 'age_log bedrooms',\n",
    " 'age_log bathrooms',\n",
    " 'age_log waterfront',\n",
    " 'age_log condition',\n",
    " 'bedrooms bathrooms',\n",
    " 'bedrooms floors',\n",
    " 'bedrooms waterfront',\n",
    " 'bedrooms condition',\n",
    " 'bedrooms refurbished',\n",
    " 'bathrooms^2',\n",
    " 'bathrooms floors',\n",
    " 'bathrooms waterfront',\n",
    " 'bathrooms condition',\n",
    " 'bathrooms refurbished',\n",
    " 'floors^2',\n",
    " 'floors view',\n",
    " 'floors condition',\n",
    " 'floors refurbished',\n",
    " 'view^2',\n",
    " 'view condition',\n",
    " 'condition refurbished']\n",
    "\n",
    "useful_scores = [0.8785330543179738,\n",
    " 0.8760729761095496,\n",
    " 0.8804794087892034,\n",
    " 0.8771785625275171,\n",
    " 0.8808082863304876,\n",
    " 0.8765670209185149,\n",
    " 0.8791185212700812,\n",
    " 0.8805043748670144,\n",
    " 0.8758816413925625,\n",
    " 0.8764937215506297,\n",
    " 0.875872884860836,\n",
    " 0.8766275748311143,\n",
    " 0.8758554341044814,\n",
    " 0.8766703748707517,\n",
    " 0.8777570620401429,\n",
    " 0.8762851966555092,\n",
    " 0.8759994379981813,\n",
    " 0.8773677312360364,\n",
    " 0.8758821521264089,\n",
    " 0.8758748807861464,\n",
    " 0.8761563010319657,\n",
    " 0.8790509609697985,\n",
    " 0.8778773825382871,\n",
    " 0.8782012764992787,\n",
    " 0.8779094307836186,\n",
    " 0.8792043940236525,\n",
    " 0.8771352918673105,\n",
    " 0.8758331815468603,\n",
    " 0.8758965915501168,\n",
    " 0.8761289495770785,\n",
    " 0.8759184420939101,\n",
    " 0.8768223618177211,\n",
    " 0.87823723270944,\n",
    " 0.8760616278891918,\n",
    " 0.8775570101659114,\n",
    " 0.878212604742196,\n",
    " 0.8758437950177973,\n",
    " 0.8760187057791782,\n",
    " 0.8795189484136825,\n",
    " 0.8773168053769382,\n",
    " 0.8784171595499013,\n",
    " 0.8759210464845744,\n",
    " 0.8773997611295739,\n",
    " 0.8764413812816974,\n",
    " 0.87828629999567,\n",
    " 0.8758385123116035,\n",
    " 0.8758910088501421,\n",
    " 0.875834293145951,\n",
    " 0.8770741739516537,\n",
    " 0.8766877468513179,\n",
    " 0.8758885970482492,\n",
    " 0.8761792361029249,\n",
    " 0.8759116706141187,\n",
    " 0.876982113300819,\n",
    " 0.8758433224824304,\n",
    " 0.875927474246836,\n",
    " 0.8758147703276645,\n",
    " 0.8758301423023648,\n",
    " 0.8758304143020779,\n",
    " 0.8758377128082933]"
   ]
  },
  {
   "cell_type": "code",
   "execution_count": 130,
   "metadata": {},
   "outputs": [
    {
     "data": {
      "text/html": [
       "<div>\n",
       "<style scoped>\n",
       "    .dataframe tbody tr th:only-of-type {\n",
       "        vertical-align: middle;\n",
       "    }\n",
       "\n",
       "    .dataframe tbody tr th {\n",
       "        vertical-align: top;\n",
       "    }\n",
       "\n",
       "    .dataframe thead th {\n",
       "        text-align: right;\n",
       "    }\n",
       "</style>\n",
       "<table border=\"1\" class=\"dataframe\">\n",
       "  <thead>\n",
       "    <tr style=\"text-align: right;\">\n",
       "      <th></th>\n",
       "      <th>potential_features</th>\n",
       "      <th>useful_scores</th>\n",
       "    </tr>\n",
       "  </thead>\n",
       "  <tbody>\n",
       "    <tr>\n",
       "      <th>4</th>\n",
       "      <td>sqft_living_log age_log</td>\n",
       "      <td>0.88</td>\n",
       "    </tr>\n",
       "    <tr>\n",
       "      <th>7</th>\n",
       "      <td>sqft_living_log floors</td>\n",
       "      <td>0.88</td>\n",
       "    </tr>\n",
       "    <tr>\n",
       "      <th>2</th>\n",
       "      <td>sqft_living_log grade_log</td>\n",
       "      <td>0.88</td>\n",
       "    </tr>\n",
       "    <tr>\n",
       "      <th>38</th>\n",
       "      <td>age_log^2</td>\n",
       "      <td>0.88</td>\n",
       "    </tr>\n",
       "    <tr>\n",
       "      <th>25</th>\n",
       "      <td>grade_log bathrooms</td>\n",
       "      <td>0.88</td>\n",
       "    </tr>\n",
       "  </tbody>\n",
       "</table>\n",
       "</div>"
      ],
      "text/plain": [
       "           potential_features  useful_scores\n",
       "4     sqft_living_log age_log           0.88\n",
       "7      sqft_living_log floors           0.88\n",
       "2   sqft_living_log grade_log           0.88\n",
       "38                  age_log^2           0.88\n",
       "25        grade_log bathrooms           0.88"
      ]
     },
     "execution_count": 130,
     "metadata": {},
     "output_type": "execute_result"
    }
   ],
   "source": [
    "#Sorting out top features by tiers of 10, 5, 3 and 1\n",
    "\n",
    "potential_features = pd.DataFrame(useful_features)\n",
    "\n",
    "potential_features['useful_scores'] = useful_scores\n",
    "\n",
    "potential_features.columns =['potential_features', 'useful_scores']\n",
    "\n",
    "top10_features = list(potential_features.sort_values(by = 'useful_scores', ascending = False).head(10)\n",
    "                       ['potential_features'])\n",
    "\n",
    "top5_features = list(potential_features.sort_values(by = 'useful_scores', ascending = False).head(5)\n",
    "                       ['potential_features'])\n",
    "\n",
    "top3_features = list(potential_features.sort_values(by = 'useful_scores', ascending = False).head(3)\n",
    "                       ['potential_features'])\n",
    "\n",
    "top_feature = list(potential_features.sort_values(by = 'useful_scores', ascending = False).head(1)\n",
    "                       ['potential_features'])\n",
    "\n",
    "potential_features.sort_values(by = 'useful_scores', ascending = False).head()"
   ]
  },
  {
   "cell_type": "code",
   "execution_count": 131,
   "metadata": {},
   "outputs": [
    {
     "data": {
      "text/plain": [
       "0.8870030376033405"
      ]
     },
     "execution_count": 131,
     "metadata": {},
     "output_type": "execute_result"
    }
   ],
   "source": [
    "#Establish improved new baseline score with all new features\n",
    "\n",
    "X_improved = pd.concat([X, X2_poly_df[useful_features]], axis = 1)\n",
    "\n",
    "np.mean(cross_val_score(linreg, X_improved, y, cv = 10, scoring='r2'))"
   ]
  },
  {
   "cell_type": "code",
   "execution_count": 132,
   "metadata": {},
   "outputs": [
    {
     "data": {
      "text/plain": [
       "0.8842457333071179"
      ]
     },
     "execution_count": 132,
     "metadata": {},
     "output_type": "execute_result"
    }
   ],
   "source": [
    "#Estimate effect of only using the top 10 features\n",
    "\n",
    "X_improved = pd.concat([X, X2_poly_df[top10_features]], axis = 1)\n",
    "\n",
    "np.mean(cross_val_score(linreg, X_improved, y, cv = 10, scoring='r2'))"
   ]
  },
  {
   "cell_type": "code",
   "execution_count": 133,
   "metadata": {},
   "outputs": [
    {
     "data": {
      "text/plain": [
       "0.8840613945175123"
      ]
     },
     "execution_count": 133,
     "metadata": {},
     "output_type": "execute_result"
    }
   ],
   "source": [
    "#Estimate effect of only using the top 5 features\n",
    "\n",
    "X_improved = pd.concat([X, X2_poly_df[top5_features]], axis = 1)\n",
    "\n",
    "np.mean(cross_val_score(linreg, X_improved, y, cv = 10, scoring='r2'))"
   ]
  },
  {
   "cell_type": "code",
   "execution_count": 134,
   "metadata": {},
   "outputs": [
    {
     "data": {
      "text/plain": [
       "0.8824761478183705"
      ]
     },
     "execution_count": 134,
     "metadata": {},
     "output_type": "execute_result"
    }
   ],
   "source": [
    "#Estimate effect of only using the top 3 features\n",
    "\n",
    "X_improved = pd.concat([X, X2_poly_df[top3_features]], axis = 1)\n",
    "\n",
    "np.mean(cross_val_score(linreg, X_improved, y, cv = 10, scoring='r2'))"
   ]
  },
  {
   "cell_type": "code",
   "execution_count": 135,
   "metadata": {},
   "outputs": [
    {
     "name": "stdout",
     "output_type": "stream",
     "text": [
      "0.8808082863304876\n",
      "['sqft_living_log age_log']\n"
     ]
    }
   ],
   "source": [
    "#Estimate effect of only using the top feature\n",
    "\n",
    "X_improved = pd.concat([X, X2_poly_df[top_feature]], axis = 1)\n",
    "\n",
    "print(np.mean(cross_val_score(linreg, X_improved, y, cv = 10, scoring='r2')))\n",
    "print(top_feature)"
   ]
  },
  {
   "cell_type": "markdown",
   "metadata": {},
   "source": [
    "### Part IV Model 6, 7, 8, 9 and 10:\n",
    "\n",
    "There is a strong interaction between the following features:\n",
    "\n",
    "'sqft_living_log_scaled age_log_scaled'\n",
    "'sqft_living_log_scaled floors'\n",
    "'sqft_living_log_scaled grade_log_scaled'\n",
    "\n",
    "Optimizing my selecting only these top 3 features results in an R2 of 0.8824\n",
    "\n",
    "Addition of these elemnts increase the R2 back above 0.88 which are enough to keep them by this model's standards\n",
    "\n",
    "#### Next Steps:\n",
    "\n",
    "Model Evaluation"
   ]
  },
  {
   "cell_type": "code",
   "execution_count": 136,
   "metadata": {},
   "outputs": [],
   "source": [
    "X_improved = pd.concat([X, X2_poly_df[top3_features]], axis = 1)"
   ]
  },
  {
   "cell_type": "code",
   "execution_count": 147,
   "metadata": {},
   "outputs": [],
   "source": [
    "#Feature Analysis by Coeffcient broken down into Zipcodes and Non Zipcodes\n",
    "\n",
    "pd.options.display.float_format = '{:,.2f}'.format\n",
    "\n",
    "final_model = linreg.fit(X, y)\n",
    "\n",
    "coef_analysis_df = pd.DataFrame(final_model.coef_)\n",
    "\n",
    "coef_analysis_df.columns = ['Coef']\n",
    "\n",
    "coef_analysis_df['abs_Coef'] = abs(coef_analysis_df['Coef'])\n",
    "\n",
    "coef_analysis_df['feature'] = X.columns\n",
    "\n",
    "non_zip_coefs = coef_analysis_df[~coef_analysis_df['feature'].str.contains('zip')].sort_values(by =\n",
    "                                                                                              'abs_Coef',\n",
    "                                                                                              ascending = False)\n",
    "\n",
    "zip_coefs = coef_analysis_df[coef_analysis_df['feature'].str.contains('zip')].sort_values(by =\n",
    "                                                                                              'abs_Coef',\n",
    "                                                                                              ascending = False)"
   ]
  },
  {
   "cell_type": "code",
   "execution_count": 148,
   "metadata": {},
   "outputs": [
    {
     "data": {
      "text/html": [
       "<div>\n",
       "<style scoped>\n",
       "    .dataframe tbody tr th:only-of-type {\n",
       "        vertical-align: middle;\n",
       "    }\n",
       "\n",
       "    .dataframe tbody tr th {\n",
       "        vertical-align: top;\n",
       "    }\n",
       "\n",
       "    .dataframe thead th {\n",
       "        text-align: right;\n",
       "    }\n",
       "</style>\n",
       "<table border=\"1\" class=\"dataframe\">\n",
       "  <thead>\n",
       "    <tr style=\"text-align: right;\">\n",
       "      <th></th>\n",
       "      <th>Coef</th>\n",
       "      <th>abs_Coef</th>\n",
       "      <th>feature</th>\n",
       "      <th>Percentage_Effect</th>\n",
       "    </tr>\n",
       "  </thead>\n",
       "  <tbody>\n",
       "    <tr>\n",
       "      <th>8</th>\n",
       "      <td>0.49</td>\n",
       "      <td>0.49</td>\n",
       "      <td>waterfront</td>\n",
       "      <td>62.75</td>\n",
       "    </tr>\n",
       "    <tr>\n",
       "      <th>11</th>\n",
       "      <td>0.09</td>\n",
       "      <td>0.09</td>\n",
       "      <td>refurbished</td>\n",
       "      <td>9.07</td>\n",
       "    </tr>\n",
       "    <tr>\n",
       "      <th>9</th>\n",
       "      <td>0.06</td>\n",
       "      <td>0.06</td>\n",
       "      <td>view</td>\n",
       "      <td>6.49</td>\n",
       "    </tr>\n",
       "    <tr>\n",
       "      <th>10</th>\n",
       "      <td>0.05</td>\n",
       "      <td>0.05</td>\n",
       "      <td>condition</td>\n",
       "      <td>5.64</td>\n",
       "    </tr>\n",
       "    <tr>\n",
       "      <th>6</th>\n",
       "      <td>0.03</td>\n",
       "      <td>0.03</td>\n",
       "      <td>bathrooms</td>\n",
       "      <td>2.96</td>\n",
       "    </tr>\n",
       "    <tr>\n",
       "      <th>7</th>\n",
       "      <td>0.01</td>\n",
       "      <td>0.01</td>\n",
       "      <td>floors</td>\n",
       "      <td>0.83</td>\n",
       "    </tr>\n",
       "    <tr>\n",
       "      <th>2</th>\n",
       "      <td>0.70</td>\n",
       "      <td>0.70</td>\n",
       "      <td>grade_log</td>\n",
       "      <td>0.70</td>\n",
       "    </tr>\n",
       "    <tr>\n",
       "      <th>0</th>\n",
       "      <td>0.38</td>\n",
       "      <td>0.38</td>\n",
       "      <td>sqft_living_log</td>\n",
       "      <td>0.38</td>\n",
       "    </tr>\n",
       "    <tr>\n",
       "      <th>3</th>\n",
       "      <td>0.17</td>\n",
       "      <td>0.17</td>\n",
       "      <td>sqft_living15_log</td>\n",
       "      <td>0.17</td>\n",
       "    </tr>\n",
       "    <tr>\n",
       "      <th>1</th>\n",
       "      <td>0.07</td>\n",
       "      <td>0.07</td>\n",
       "      <td>sqft_lot_log</td>\n",
       "      <td>0.07</td>\n",
       "    </tr>\n",
       "    <tr>\n",
       "      <th>4</th>\n",
       "      <td>-0.02</td>\n",
       "      <td>0.02</td>\n",
       "      <td>age_log</td>\n",
       "      <td>-0.02</td>\n",
       "    </tr>\n",
       "    <tr>\n",
       "      <th>5</th>\n",
       "      <td>-0.01</td>\n",
       "      <td>0.01</td>\n",
       "      <td>bedrooms</td>\n",
       "      <td>-1.30</td>\n",
       "    </tr>\n",
       "  </tbody>\n",
       "</table>\n",
       "</div>"
      ],
      "text/plain": [
       "    Coef  abs_Coef            feature  Percentage_Effect\n",
       "8   0.49      0.49         waterfront              62.75\n",
       "11  0.09      0.09        refurbished               9.07\n",
       "9   0.06      0.06               view               6.49\n",
       "10  0.05      0.05          condition               5.64\n",
       "6   0.03      0.03          bathrooms               2.96\n",
       "7   0.01      0.01             floors               0.83\n",
       "2   0.70      0.70          grade_log               0.70\n",
       "0   0.38      0.38    sqft_living_log               0.38\n",
       "3   0.17      0.17  sqft_living15_log               0.17\n",
       "1   0.07      0.07       sqft_lot_log               0.07\n",
       "4  -0.02      0.02            age_log              -0.02\n",
       "5  -0.01      0.01           bedrooms              -1.30"
      ]
     },
     "execution_count": 148,
     "metadata": {},
     "output_type": "execute_result"
    }
   ],
   "source": [
    "#Quick Analysis of non_zip_coefs, based on absolute effect on the model:\n",
    "\n",
    "non_zip_coefs\n",
    "\n",
    "non_zip_coefs['Percentage_Effect'] = np.where(non_zip_coefs['feature'].str.contains('log'), non_zip_coefs['Coef'], \n",
    "                                              non_zip_coefs['Coef'].apply(lambda x: 100 * (np.exp(x) - 1)))\n",
    "\n",
    "non_zip_coefs.sort_values(by='Percentage_Effect', ascending = False)"
   ]
  },
  {
   "cell_type": "code",
   "execution_count": 149,
   "metadata": {},
   "outputs": [
    {
     "data": {
      "text/html": [
       "<div>\n",
       "<style scoped>\n",
       "    .dataframe tbody tr th:only-of-type {\n",
       "        vertical-align: middle;\n",
       "    }\n",
       "\n",
       "    .dataframe tbody tr th {\n",
       "        vertical-align: top;\n",
       "    }\n",
       "\n",
       "    .dataframe thead th {\n",
       "        text-align: right;\n",
       "    }\n",
       "</style>\n",
       "<table border=\"1\" class=\"dataframe\">\n",
       "  <thead>\n",
       "    <tr style=\"text-align: right;\">\n",
       "      <th></th>\n",
       "      <th>Coef</th>\n",
       "      <th>abs_Coef</th>\n",
       "      <th>feature</th>\n",
       "      <th>Percentage_Effect</th>\n",
       "    </tr>\n",
       "  </thead>\n",
       "  <tbody>\n",
       "    <tr>\n",
       "      <th>35</th>\n",
       "      <td>1.35</td>\n",
       "      <td>1.35</td>\n",
       "      <td>zipcode_str_98039</td>\n",
       "      <td>285.68</td>\n",
       "    </tr>\n",
       "    <tr>\n",
       "      <th>14</th>\n",
       "      <td>1.15</td>\n",
       "      <td>1.15</td>\n",
       "      <td>zipcode_str_98004</td>\n",
       "      <td>215.67</td>\n",
       "    </tr>\n",
       "    <tr>\n",
       "      <th>59</th>\n",
       "      <td>1.12</td>\n",
       "      <td>1.12</td>\n",
       "      <td>zipcode_str_98112</td>\n",
       "      <td>205.24</td>\n",
       "    </tr>\n",
       "    <tr>\n",
       "      <th>58</th>\n",
       "      <td>1.06</td>\n",
       "      <td>1.06</td>\n",
       "      <td>zipcode_str_98109</td>\n",
       "      <td>188.27</td>\n",
       "    </tr>\n",
       "    <tr>\n",
       "      <th>52</th>\n",
       "      <td>1.04</td>\n",
       "      <td>1.04</td>\n",
       "      <td>zipcode_str_98102</td>\n",
       "      <td>183.18</td>\n",
       "    </tr>\n",
       "    <tr>\n",
       "      <th>...</th>\n",
       "      <td>...</td>\n",
       "      <td>...</td>\n",
       "      <td>...</td>\n",
       "      <td>...</td>\n",
       "    </tr>\n",
       "    <tr>\n",
       "      <th>12</th>\n",
       "      <td>0.02</td>\n",
       "      <td>0.02</td>\n",
       "      <td>zipcode_str_98002</td>\n",
       "      <td>2.37</td>\n",
       "    </tr>\n",
       "    <tr>\n",
       "      <th>13</th>\n",
       "      <td>0.02</td>\n",
       "      <td>0.02</td>\n",
       "      <td>zipcode_str_98003</td>\n",
       "      <td>2.02</td>\n",
       "    </tr>\n",
       "    <tr>\n",
       "      <th>51</th>\n",
       "      <td>0.01</td>\n",
       "      <td>0.01</td>\n",
       "      <td>zipcode_str_98092</td>\n",
       "      <td>1.31</td>\n",
       "    </tr>\n",
       "    <tr>\n",
       "      <th>31</th>\n",
       "      <td>-0.01</td>\n",
       "      <td>0.01</td>\n",
       "      <td>zipcode_str_98032</td>\n",
       "      <td>-0.94</td>\n",
       "    </tr>\n",
       "    <tr>\n",
       "      <th>24</th>\n",
       "      <td>-0.02</td>\n",
       "      <td>0.02</td>\n",
       "      <td>zipcode_str_98023</td>\n",
       "      <td>-2.18</td>\n",
       "    </tr>\n",
       "  </tbody>\n",
       "</table>\n",
       "<p>69 rows × 4 columns</p>\n",
       "</div>"
      ],
      "text/plain": [
       "    Coef  abs_Coef            feature  Percentage_Effect\n",
       "35  1.35      1.35  zipcode_str_98039             285.68\n",
       "14  1.15      1.15  zipcode_str_98004             215.67\n",
       "59  1.12      1.12  zipcode_str_98112             205.24\n",
       "58  1.06      1.06  zipcode_str_98109             188.27\n",
       "52  1.04      1.04  zipcode_str_98102             183.18\n",
       "..   ...       ...                ...                ...\n",
       "12  0.02      0.02  zipcode_str_98002               2.37\n",
       "13  0.02      0.02  zipcode_str_98003               2.02\n",
       "51  0.01      0.01  zipcode_str_98092               1.31\n",
       "31 -0.01      0.01  zipcode_str_98032              -0.94\n",
       "24 -0.02      0.02  zipcode_str_98023              -2.18\n",
       "\n",
       "[69 rows x 4 columns]"
      ]
     },
     "execution_count": 149,
     "metadata": {},
     "output_type": "execute_result"
    }
   ],
   "source": [
    "#Quick Analysis of non_zip_coefs, based on absolute effect on the model:\n",
    "\n",
    "zip_coefs['Percentage_Effect'] = zip_coefs['Coef'].apply(lambda x: 100 * (np.exp(x) - 1))\n",
    "\n",
    "zip_coefs.sort_values(by='Percentage_Effect', ascending = False)"
   ]
  },
  {
   "cell_type": "code",
   "execution_count": 150,
   "metadata": {},
   "outputs": [
    {
     "data": {
      "text/plain": [
       "LinearRegression()"
      ]
     },
     "execution_count": 150,
     "metadata": {},
     "output_type": "execute_result"
    }
   ],
   "source": [
    "#Creating a scaled X_improved to determine scaled effect of Coefficients\n",
    "\n",
    "scaler = StandardScaler()\n",
    "\n",
    "X_improved_scaled = scaler.fit_transform(X_improved)\n",
    "\n",
    "linreg.fit(X_improved_scaled, y)"
   ]
  },
  {
   "cell_type": "code",
   "execution_count": 151,
   "metadata": {},
   "outputs": [],
   "source": [
    "#Scaled Feature Analysis by Coeffcient broken down into Zipcodes and Non Zipcodes \n",
    "\n",
    "pd.options.display.float_format = '{:,.2f}'.format\n",
    "\n",
    "final_model = linreg.fit(X, y)\n",
    "\n",
    "coef_analysis_df = pd.DataFrame(final_model.coef_)\n",
    "\n",
    "coef_analysis_df.columns = ['Coef']\n",
    "\n",
    "coef_analysis_df['abs_Coef'] = abs(coef_analysis_df['Coef'])\n",
    "\n",
    "coef_analysis_df['feature'] = X.columns\n",
    "\n",
    "non_zip_coefs = coef_analysis_df[~coef_analysis_df['feature'].str.contains('zip')].sort_values(by =\n",
    "                                                                                              'abs_Coef',\n",
    "                                                                                              ascending = False)\n",
    "\n",
    "zip_coefs = coef_analysis_df[coef_analysis_df['feature'].str.contains('zip')].sort_values(by =\n",
    "                                                                                              'abs_Coef',\n",
    "                                                                                              ascending = False)"
   ]
  },
  {
   "cell_type": "code",
   "execution_count": 152,
   "metadata": {},
   "outputs": [
    {
     "data": {
      "text/html": [
       "<div>\n",
       "<style scoped>\n",
       "    .dataframe tbody tr th:only-of-type {\n",
       "        vertical-align: middle;\n",
       "    }\n",
       "\n",
       "    .dataframe tbody tr th {\n",
       "        vertical-align: top;\n",
       "    }\n",
       "\n",
       "    .dataframe thead th {\n",
       "        text-align: right;\n",
       "    }\n",
       "</style>\n",
       "<table border=\"1\" class=\"dataframe\">\n",
       "  <thead>\n",
       "    <tr style=\"text-align: right;\">\n",
       "      <th></th>\n",
       "      <th>Coef</th>\n",
       "      <th>abs_Coef</th>\n",
       "      <th>feature</th>\n",
       "    </tr>\n",
       "  </thead>\n",
       "  <tbody>\n",
       "    <tr>\n",
       "      <th>2</th>\n",
       "      <td>0.70</td>\n",
       "      <td>0.70</td>\n",
       "      <td>grade_log</td>\n",
       "    </tr>\n",
       "    <tr>\n",
       "      <th>8</th>\n",
       "      <td>0.49</td>\n",
       "      <td>0.49</td>\n",
       "      <td>waterfront</td>\n",
       "    </tr>\n",
       "    <tr>\n",
       "      <th>0</th>\n",
       "      <td>0.38</td>\n",
       "      <td>0.38</td>\n",
       "      <td>sqft_living_log</td>\n",
       "    </tr>\n",
       "    <tr>\n",
       "      <th>3</th>\n",
       "      <td>0.17</td>\n",
       "      <td>0.17</td>\n",
       "      <td>sqft_living15_log</td>\n",
       "    </tr>\n",
       "    <tr>\n",
       "      <th>11</th>\n",
       "      <td>0.09</td>\n",
       "      <td>0.09</td>\n",
       "      <td>refurbished</td>\n",
       "    </tr>\n",
       "    <tr>\n",
       "      <th>1</th>\n",
       "      <td>0.07</td>\n",
       "      <td>0.07</td>\n",
       "      <td>sqft_lot_log</td>\n",
       "    </tr>\n",
       "    <tr>\n",
       "      <th>9</th>\n",
       "      <td>0.06</td>\n",
       "      <td>0.06</td>\n",
       "      <td>view</td>\n",
       "    </tr>\n",
       "    <tr>\n",
       "      <th>10</th>\n",
       "      <td>0.05</td>\n",
       "      <td>0.05</td>\n",
       "      <td>condition</td>\n",
       "    </tr>\n",
       "    <tr>\n",
       "      <th>6</th>\n",
       "      <td>0.03</td>\n",
       "      <td>0.03</td>\n",
       "      <td>bathrooms</td>\n",
       "    </tr>\n",
       "    <tr>\n",
       "      <th>4</th>\n",
       "      <td>-0.02</td>\n",
       "      <td>0.02</td>\n",
       "      <td>age_log</td>\n",
       "    </tr>\n",
       "    <tr>\n",
       "      <th>5</th>\n",
       "      <td>-0.01</td>\n",
       "      <td>0.01</td>\n",
       "      <td>bedrooms</td>\n",
       "    </tr>\n",
       "    <tr>\n",
       "      <th>7</th>\n",
       "      <td>0.01</td>\n",
       "      <td>0.01</td>\n",
       "      <td>floors</td>\n",
       "    </tr>\n",
       "  </tbody>\n",
       "</table>\n",
       "</div>"
      ],
      "text/plain": [
       "    Coef  abs_Coef            feature\n",
       "2   0.70      0.70          grade_log\n",
       "8   0.49      0.49         waterfront\n",
       "0   0.38      0.38    sqft_living_log\n",
       "3   0.17      0.17  sqft_living15_log\n",
       "11  0.09      0.09        refurbished\n",
       "1   0.07      0.07       sqft_lot_log\n",
       "9   0.06      0.06               view\n",
       "10  0.05      0.05          condition\n",
       "6   0.03      0.03          bathrooms\n",
       "4  -0.02      0.02            age_log\n",
       "5  -0.01      0.01           bedrooms\n",
       "7   0.01      0.01             floors"
      ]
     },
     "execution_count": 152,
     "metadata": {},
     "output_type": "execute_result"
    }
   ],
   "source": [
    "#Assessment of top non_zipcode features by scaled effect on the Model\n",
    "\n",
    "non_zip_coefs"
   ]
  },
  {
   "cell_type": "code",
   "execution_count": 153,
   "metadata": {},
   "outputs": [
    {
     "data": {
      "text/html": [
       "<div>\n",
       "<style scoped>\n",
       "    .dataframe tbody tr th:only-of-type {\n",
       "        vertical-align: middle;\n",
       "    }\n",
       "\n",
       "    .dataframe tbody tr th {\n",
       "        vertical-align: top;\n",
       "    }\n",
       "\n",
       "    .dataframe thead th {\n",
       "        text-align: right;\n",
       "    }\n",
       "</style>\n",
       "<table border=\"1\" class=\"dataframe\">\n",
       "  <thead>\n",
       "    <tr style=\"text-align: right;\">\n",
       "      <th></th>\n",
       "      <th>Coef</th>\n",
       "      <th>abs_Coef</th>\n",
       "      <th>feature</th>\n",
       "    </tr>\n",
       "  </thead>\n",
       "  <tbody>\n",
       "    <tr>\n",
       "      <th>35</th>\n",
       "      <td>1.35</td>\n",
       "      <td>1.35</td>\n",
       "      <td>zipcode_str_98039</td>\n",
       "    </tr>\n",
       "    <tr>\n",
       "      <th>14</th>\n",
       "      <td>1.15</td>\n",
       "      <td>1.15</td>\n",
       "      <td>zipcode_str_98004</td>\n",
       "    </tr>\n",
       "    <tr>\n",
       "      <th>59</th>\n",
       "      <td>1.12</td>\n",
       "      <td>1.12</td>\n",
       "      <td>zipcode_str_98112</td>\n",
       "    </tr>\n",
       "    <tr>\n",
       "      <th>58</th>\n",
       "      <td>1.06</td>\n",
       "      <td>1.06</td>\n",
       "      <td>zipcode_str_98109</td>\n",
       "    </tr>\n",
       "    <tr>\n",
       "      <th>52</th>\n",
       "      <td>1.04</td>\n",
       "      <td>1.04</td>\n",
       "      <td>zipcode_str_98102</td>\n",
       "    </tr>\n",
       "  </tbody>\n",
       "</table>\n",
       "</div>"
      ],
      "text/plain": [
       "    Coef  abs_Coef            feature\n",
       "35  1.35      1.35  zipcode_str_98039\n",
       "14  1.15      1.15  zipcode_str_98004\n",
       "59  1.12      1.12  zipcode_str_98112\n",
       "58  1.06      1.06  zipcode_str_98109\n",
       "52  1.04      1.04  zipcode_str_98102"
      ]
     },
     "execution_count": 153,
     "metadata": {},
     "output_type": "execute_result"
    }
   ],
   "source": [
    "#Assessment of top zipcode features by scaled effect on the Model\n",
    "\n",
    "zip_coefs.head(5)"
   ]
  },
  {
   "cell_type": "code",
   "execution_count": 154,
   "metadata": {},
   "outputs": [
    {
     "name": "stdout",
     "output_type": "stream",
     "text": [
      "Grade mean: 7.657915451220076\n",
      "Percetnage increase from scoring 2.3420845487799236 higher than the grade mean:0.21408687450117303\n"
     ]
    },
    {
     "data": {
      "image/png": "[encoded data removed]",
      "text/plain": [
       "<Figure size 432x288 with 1 Axes>"
      ]
     },
     "metadata": {
      "needs_background": "light"
     },
     "output_type": "display_data"
    }
   ],
   "source": [
    "#Quick analysis on Grade and the effect of scoring higher than the mean\n",
    "\n",
    "plt.boxplot(data['grade'])\n",
    "\n",
    "grade_mean = data['grade'].mean()\n",
    "\n",
    "print(f'Grade mean: {grade_mean}')\n",
    "print(f'Percetnage increase from scoring {10-grade_mean} higher than the grade mean:{((10/grade_mean)-1)*0.7}')"
   ]
  },
  {
   "cell_type": "code",
   "execution_count": 311,
   "metadata": {},
   "outputs": [
    {
     "name": "stdout",
     "output_type": "stream",
     "text": [
      "Sqft mean: 2080.3218502569803\n",
      "Percetnage increase from scoring 419.67814974301973 \n",
      "higher than the grade mean: 0.07666010760914106\n"
     ]
    },
    {
     "data": {
      "image/png": "[encoded data removed]",
      "text/plain": [
       "<Figure size 432x288 with 1 Axes>"
      ]
     },
     "metadata": {
      "needs_background": "light"
     },
     "output_type": "display_data"
    }
   ],
   "source": [
    "#Quick analysis on Sqft and the effect of scoring higher than the mean\n",
    "\n",
    "plt.boxplot(data['sqft_living'])\n",
    "\n",
    "sqft_mean = data['sqft_living'].mean()\n",
    "\n",
    "print(f'Sqft mean: {sqft_mean}')\n",
    "print(f'''Percetnage increase from scoring {2500-sqft_mean} \n",
    "higher than the grade mean: {((2500/sqft_mean)-1)*0.38}''')"
   ]
  },
  {
   "cell_type": "markdown",
   "metadata": {},
   "source": [
    "## Part V: Evaluation\n",
    "\n",
    "Based on our model with an R2 of ~0.87, the following features are deemed most valuable:\n",
    "\n",
    "### Location:\n",
    "\n",
    "With all factors held constant, adding a waterfront view can increase home value by up to 63%. This model further verifies this assumption when assessing zipcodes.\n",
    "\n",
    "Particularly the top 5 Zipcodes which drive price up are all in waterfront locations and construction in any of these zipcodes can result in prices 2X to 3X higher than non waterfront locations.\n",
    "\n",
    "### Grade:\n",
    "\n",
    "High Grading in the King County Housing Grading metric also has a large effect on price.\n",
    "\n",
    "Specifically a 1% increase in Grade can result in a 0.7% increase in price.\n",
    "\n",
    "If one were to score 10/13 (roughly 2.3 points higher than the grade mean), and all other factors were held\n",
    "constant, price would increase by 21%.\n",
    "\n",
    "### Size\n",
    "\n",
    "Without surprise, livable square feet also has a significant impact on price.\n",
    "\n",
    "Precisely, a 1% increase in square footage can result in a 0.4% increase in price.\n",
    "\n",
    "If one were to compare 2 houses, with all other factors held equal, with one house being 2,080 SQFT and the other\n",
    "2,500 SQFT, the latter house would cost almost 8% more than the prior.\n"
   ]
  },
  {
   "cell_type": "code",
   "execution_count": 298,
   "metadata": {},
   "outputs": [
    {
     "name": "stdout",
     "output_type": "stream",
     "text": [
      "Total increase in mean price: 0.5495614054820592\n"
     ]
    },
    {
     "data": {
      "image/png": "[encoded data removed]",
      "text/plain": [
       "<Figure size 432x288 with 1 Axes>"
      ]
     },
     "metadata": {
      "needs_background": "light"
     },
     "output_type": "display_data"
    }
   ],
   "source": [
    "##Data Validation waterfront location\n",
    "\n",
    "evaluation_df = data[['price', 'sqft_living', 'waterfront', 'grade', 'zipcode']]\n",
    "\n",
    "wf_mean = evaluation_df[(evaluation_df['grade'] == 8) & (evaluation_df['sqft_living'] < 3000)\n",
    "             & (evaluation_df['sqft_living'] > 2800) & (evaluation_df['waterfront'] == 1)]['price'].mean()\n",
    "\n",
    "wf_mean\n",
    "\n",
    "no_wf_mean = evaluation_df[(evaluation_df['grade'] == 8) & (evaluation_df['sqft_living'] < 3000)\n",
    "             & (evaluation_df['sqft_living'] > 2800) & (evaluation_df['waterfront'] == 0)]['price'].mean()\n",
    "\n",
    "no_wf_mean\n",
    "\n",
    "##Plotting results in a bar graph\n",
    "\n",
    "fig = plt.figure()\n",
    "ax = fig.add_subplot(111)\n",
    "\n",
    "A = [\"Houses With Waterfronts\", \"Houses Without Waterfronts\"]\n",
    "B = [wf_mean, no_wf_mean]\n",
    "\n",
    "plt.bar(A,B)\n",
    "\n",
    "plt.title('Waterfront vs. Non Waterfront Property Prices');\n",
    "print(f'Total increase in mean price: {(wf_mean/no_wf_mean)-1}')"
   ]
  },
  {
   "cell_type": "code",
   "execution_count": 300,
   "metadata": {},
   "outputs": [
    {
     "name": "stdout",
     "output_type": "stream",
     "text": [
      "Total increase in mean price: 0.6718113347326831\n"
     ]
    },
    {
     "data": {
      "image/png": "[encoded data removed]",
      "text/plain": [
       "<Figure size 432x288 with 1 Axes>"
      ]
     },
     "metadata": {
      "needs_background": "light"
     },
     "output_type": "display_data"
    }
   ],
   "source": [
    "##Data Validation waterfront grade\n",
    "\n",
    "evaluation_df = data[['price', 'sqft_living', 'waterfront', 'grade', 'zipcode']]\n",
    "\n",
    "wf_mean = evaluation_df[(evaluation_df['grade'] == 10) & (evaluation_df['sqft_living'] < 3000)\n",
    "             & (evaluation_df['sqft_living'] > 2800) & (evaluation_df['waterfront'] == 1)]['price'].mean()\n",
    "\n",
    "wf_mean\n",
    "\n",
    "no_wf_mean = evaluation_df[(evaluation_df['grade'] == 8) & (evaluation_df['sqft_living'] < 3000)\n",
    "             & (evaluation_df['sqft_living'] > 2800) & (evaluation_df['waterfront'] == 1)]['price'].mean()\n",
    "\n",
    "no_wf_mean\n",
    "\n",
    "##Plotting results in a bar graph\n",
    "\n",
    "fig = plt.figure()\n",
    "ax = fig.add_subplot(111)\n",
    "\n",
    "A = [\"Grade of 10\", \"Gade of 8\"]\n",
    "B = [wf_mean, no_wf_mean]\n",
    "\n",
    "plt.bar(A,B)\n",
    "\n",
    "plt.title('High Grade vs. Low Grade Property Prices');\n",
    "\n",
    "plt.title('Waterfront vs. Non Waterfront Property Prices');\n",
    "print(f'Total increase in mean price: {(wf_mean/no_wf_mean)-1}')"
   ]
  },
  {
   "cell_type": "code",
   "execution_count": 310,
   "metadata": {},
   "outputs": [
    {
     "name": "stdout",
     "output_type": "stream",
     "text": [
      "Total increase in mean price: 0.2836041358936485\n"
     ]
    },
    {
     "data": {
      "image/png": "[encoded data removed]",
      "text/plain": [
       "<Figure size 432x288 with 1 Axes>"
      ]
     },
     "metadata": {
      "needs_background": "light"
     },
     "output_type": "display_data"
    }
   ],
   "source": [
    "##Data Validation waterfront grade\n",
    "\n",
    "evaluation_df = data[['price', 'sqft_living', 'waterfront', 'grade', 'zipcode']]\n",
    "\n",
    "wf_mean = evaluation_df[(evaluation_df['grade'] == 10) & (evaluation_df['sqft_living'] < 3500)\n",
    "             & (evaluation_df['sqft_living'] > 3200) & (evaluation_df['waterfront'] == 1)]['price'].mean()\n",
    "\n",
    "wf_mean\n",
    "\n",
    "no_wf_mean = evaluation_df[(evaluation_df['grade'] == 10) & (evaluation_df['sqft_living'] < 3000)\n",
    "             & (evaluation_df['sqft_living'] > 2800) & (evaluation_df['waterfront'] == 1)]['price'].mean()\n",
    "\n",
    "no_wf_mean\n",
    "\n",
    "##Plotting results in a bar graph\n",
    "\n",
    "fig = plt.figure()\n",
    "ax = fig.add_subplot(111)\n",
    "\n",
    "A = [\"3.5k SQFT House\", \"3k SQFT House\"]\n",
    "B = [wf_mean, no_wf_mean]\n",
    "\n",
    "plt.bar(A,B)\n",
    "\n",
    "plt.title('500 SQFT Increase in SQFT');\n",
    "\n",
    "print(f'Total increase in mean price: {(wf_mean/no_wf_mean)-1}')"
   ]
  },
  {
   "cell_type": "markdown",
   "metadata": {},
   "source": [
    "## Part VI: Deployment\n",
    "\n",
    "It is our reccomendation that the housing development be built on by a waterfront property, focus on achieving high scores on the King County grading metric, and scale their houses accordingly based on the metrics provided in our evaluation phase."
   ]
  }
 ],
 "metadata": {
  "kernelspec": {
   "display_name": "Python 3",
   "language": "python",
   "name": "python3"
  },
  "language_info": {
   "codemirror_mode": {
    "name": "ipython",
    "version": 3
   },
   "file_extension": ".py",
   "mimetype": "text/x-python",
   "name": "python",
   "nbconvert_exporter": "python",
   "pygments_lexer": "ipython3",
   "version": "3.8.5"
  }
 },
 "nbformat": 4,
 "nbformat_minor": 2
}
